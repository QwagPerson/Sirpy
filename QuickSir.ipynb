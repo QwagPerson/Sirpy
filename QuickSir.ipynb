{
 "cells": [
  {
   "cell_type": "code",
   "execution_count": 1,
   "metadata": {
    "collapsed": true,
    "pycharm": {
     "name": "#%%\n"
    }
   },
   "outputs": [],
   "source": [
    "import numpy as np\n",
    "import sunode\n",
    "import sunode.wrappers.as_pytensor\n",
    "import pymc as pm\n",
    "import pandas as pd\n",
    "from sirpy.models.SIR import SIR\n",
    "import arviz as az\n",
    "import jax\n"
   ]
  },
  {
   "cell_type": "code",
   "execution_count": 2,
   "outputs": [
    {
     "name": "stdout",
     "output_type": "stream",
     "text": [
      "Train is the first 100 days and test is remaining 23 days.\n"
     ]
    }
   ],
   "source": [
    "data = pd.read_csv(\"covid_japan_processed.csv\", parse_dates=[0], index_col=0)\n",
    "t = (data.index - data.index.min()) / (data.index.max() - data.index.min())\n",
    "data.reset_index(drop=True, inplace=True)\n",
    "train = data.iloc[0:100,:]\n",
    "test = data.iloc[100::,:]\n",
    "print(f\"Train is the first {len(train)} days and test is remaining {len(test)} days.\") #Typo"
   ],
   "metadata": {
    "collapsed": false,
    "pycharm": {
     "name": "#%%\n"
    }
   }
  },
  {
   "cell_type": "code",
   "execution_count": 3,
   "outputs": [],
   "source": [
    "def sir(t, y, p):\n",
    "    \"\"\"Right hand side of Lotka-Volterra equation.\n",
    "\n",
    "    All inputs are dataclasses of sympy variables, or in the case\n",
    "    of non-scalar variables numpy arrays of sympy variables.\n",
    "    \"\"\"\n",
    "    return {\n",
    "        'S': -p.beta * y.S * y.I,\n",
    "        'I': p.beta * y.S * y.I - p.gamma * y.I,\n",
    "        'R': p.gamma * y.I\n",
    "    }\n"
   ],
   "metadata": {
    "collapsed": false,
    "pycharm": {
     "name": "#%%\n"
    }
   }
  },
  {
   "cell_type": "code",
   "execution_count": 4,
   "outputs": [],
   "source": [
    "times = t.to_numpy()"
   ],
   "metadata": {
    "collapsed": false,
    "pycharm": {
     "name": "#%%\n"
    }
   }
  },
  {
   "cell_type": "code",
   "execution_count": 5,
   "outputs": [],
   "source": [
    "sir_m = pm.Model()\n",
    "with sir_m:\n",
    "    # Define initial conditions\n",
    "    S0 = pm.Uniform('S0', lower=0, upper=1)\n",
    "    I0 = pm.Uniform('I0', lower=0, upper=1-S0)\n",
    "    R0 = pm.Uniform('R0', lower=0, upper=1-I0-S0)\n",
    "\n",
    "    # Define priors\n",
    "    beta = pm.Normal(\"beta\", 0, 1)\n",
    "    gamma = pm.Normal(\"gamma\", 0, 1)\n",
    "    sd = pm.HalfNormal('sd')\n",
    "\n",
    "    # Solve the ODE\n",
    "    y_hat, _, problem, solver, _, _ = sunode.wrappers.as_pytensor.solve_ivp(\n",
    "        y0={\n",
    "\t    # The initial conditions of the ode. Each variable\n",
    "\t    # needs to specify a PyTensor or numpy variable and a shape.\n",
    "\t    # This dict can be nested.\n",
    "            'S': (S0, ()),\n",
    "            'I': (I0, ()),\n",
    "            'R': (R0, ()),\n",
    "        },\n",
    "        params={\n",
    "\t    # Each parameter of the ode. sunode will only compute derivatives\n",
    "\t    # with respect to PyTensor variables. The shape needs to be specified\n",
    "\t    # as well. It it infered automatically for numpy variables.\n",
    "\t    # This dict can be nested.\n",
    "            'beta': (beta, ()),\n",
    "            'gamma': (gamma, ()),\n",
    "            '_dummy': (np.array(1.), ()),\n",
    "        },\n",
    "\t# A functions that computes the right-hand-side of the ode using\n",
    "\t# sympy variables.\n",
    "        rhs=sir,\n",
    "\t# The time points where we want to access the solution\n",
    "        tvals=times,\n",
    "        t0=times[0],\n",
    "    )\n",
    "    # We can access the individual variables of the solution using the\n",
    "    # variable names.\n",
    "\n",
    "    # likehoods\n",
    "    # posterior prop prior x likehood\n",
    "    # prior x likehood --> MCMC --> frecuencias relativas\n",
    "    # Si suficiente tiempo la cadena de markov converge y representa las verdaderas frecuencais\n",
    "    pm.Normal('I', mu=y_hat[\"I\"], sigma=sd, observed=data.iloc[:,1])\n",
    "    pm.Normal('R', mu=y_hat[\"R\"], sigma=sd, observed=data.iloc[:,2])\n"
   ],
   "metadata": {
    "collapsed": false,
    "pycharm": {
     "name": "#%%\n"
    }
   }
  },
  {
   "cell_type": "code",
   "execution_count": 6,
   "outputs": [
    {
     "name": "stderr",
     "output_type": "stream",
     "text": [
      "Auto-assigning NUTS sampler...\n",
      "Initializing NUTS using jitter+adapt_diag...\n"
     ]
    },
    {
     "ename": "KeyboardInterrupt",
     "evalue": "",
     "output_type": "error",
     "traceback": [
      "\u001B[0;31m---------------------------------------------------------------------------\u001B[0m",
      "\u001B[0;31mKeyboardInterrupt\u001B[0m                         Traceback (most recent call last)",
      "Cell \u001B[0;32mIn[6], line 2\u001B[0m\n\u001B[1;32m      1\u001B[0m \u001B[38;5;28;01mwith\u001B[39;00m sir_m:\n\u001B[0;32m----> 2\u001B[0m     trace \u001B[38;5;241m=\u001B[39m \u001B[43mpm\u001B[49m\u001B[38;5;241;43m.\u001B[39;49m\u001B[43msample\u001B[49m\u001B[43m(\u001B[49m\u001B[38;5;241;43m2000\u001B[39;49m\u001B[43m,\u001B[49m\u001B[43m \u001B[49m\u001B[43mtune\u001B[49m\u001B[38;5;241;43m=\u001B[39;49m\u001B[38;5;241;43m2000\u001B[39;49m\u001B[43m,\u001B[49m\u001B[43m \u001B[49m\u001B[43mcores\u001B[49m\u001B[38;5;241;43m=\u001B[39;49m\u001B[38;5;241;43m2\u001B[39;49m\u001B[43m,\u001B[49m\u001B[43m \u001B[49m\u001B[43mchains\u001B[49m\u001B[38;5;241;43m=\u001B[39;49m\u001B[38;5;241;43m2\u001B[39;49m\u001B[43m)\u001B[49m\n",
      "File \u001B[0;32m~/anaconda3/envs/sirpy/lib/python3.8/site-packages/pymc/sampling/mcmc.py:456\u001B[0m, in \u001B[0;36msample\u001B[0;34m(draws, step, init, n_init, initvals, trace, chains, cores, tune, progressbar, model, random_seed, discard_tuned_samples, compute_convergence_checks, callback, jitter_max_retries, return_inferencedata, keep_warning_stat, idata_kwargs, mp_ctx, **kwargs)\u001B[0m\n\u001B[1;32m    454\u001B[0m         [kwargs\u001B[38;5;241m.\u001B[39msetdefault(k, v) \u001B[38;5;28;01mfor\u001B[39;00m k, v \u001B[38;5;129;01min\u001B[39;00m nuts_kwargs\u001B[38;5;241m.\u001B[39mitems()]\n\u001B[1;32m    455\u001B[0m     _log\u001B[38;5;241m.\u001B[39minfo(\u001B[38;5;124m\"\u001B[39m\u001B[38;5;124mAuto-assigning NUTS sampler...\u001B[39m\u001B[38;5;124m\"\u001B[39m)\n\u001B[0;32m--> 456\u001B[0m     initial_points, step \u001B[38;5;241m=\u001B[39m \u001B[43minit_nuts\u001B[49m\u001B[43m(\u001B[49m\n\u001B[1;32m    457\u001B[0m \u001B[43m        \u001B[49m\u001B[43minit\u001B[49m\u001B[38;5;241;43m=\u001B[39;49m\u001B[43minit\u001B[49m\u001B[43m,\u001B[49m\n\u001B[1;32m    458\u001B[0m \u001B[43m        \u001B[49m\u001B[43mchains\u001B[49m\u001B[38;5;241;43m=\u001B[39;49m\u001B[43mchains\u001B[49m\u001B[43m,\u001B[49m\n\u001B[1;32m    459\u001B[0m \u001B[43m        \u001B[49m\u001B[43mn_init\u001B[49m\u001B[38;5;241;43m=\u001B[39;49m\u001B[43mn_init\u001B[49m\u001B[43m,\u001B[49m\n\u001B[1;32m    460\u001B[0m \u001B[43m        \u001B[49m\u001B[43mmodel\u001B[49m\u001B[38;5;241;43m=\u001B[39;49m\u001B[43mmodel\u001B[49m\u001B[43m,\u001B[49m\n\u001B[1;32m    461\u001B[0m \u001B[43m        \u001B[49m\u001B[43mrandom_seed\u001B[49m\u001B[38;5;241;43m=\u001B[39;49m\u001B[43mrandom_seed_list\u001B[49m\u001B[43m,\u001B[49m\n\u001B[1;32m    462\u001B[0m \u001B[43m        \u001B[49m\u001B[43mprogressbar\u001B[49m\u001B[38;5;241;43m=\u001B[39;49m\u001B[43mprogressbar\u001B[49m\u001B[43m,\u001B[49m\n\u001B[1;32m    463\u001B[0m \u001B[43m        \u001B[49m\u001B[43mjitter_max_retries\u001B[49m\u001B[38;5;241;43m=\u001B[39;49m\u001B[43mjitter_max_retries\u001B[49m\u001B[43m,\u001B[49m\n\u001B[1;32m    464\u001B[0m \u001B[43m        \u001B[49m\u001B[43mtune\u001B[49m\u001B[38;5;241;43m=\u001B[39;49m\u001B[43mtune\u001B[49m\u001B[43m,\u001B[49m\n\u001B[1;32m    465\u001B[0m \u001B[43m        \u001B[49m\u001B[43minitvals\u001B[49m\u001B[38;5;241;43m=\u001B[39;49m\u001B[43minitvals\u001B[49m\u001B[43m,\u001B[49m\n\u001B[1;32m    466\u001B[0m \u001B[43m        \u001B[49m\u001B[38;5;241;43m*\u001B[39;49m\u001B[38;5;241;43m*\u001B[39;49m\u001B[43mkwargs\u001B[49m\u001B[43m,\u001B[49m\n\u001B[1;32m    467\u001B[0m \u001B[43m    \u001B[49m\u001B[43m)\u001B[49m\n\u001B[1;32m    469\u001B[0m \u001B[38;5;28;01mif\u001B[39;00m initial_points \u001B[38;5;129;01mis\u001B[39;00m \u001B[38;5;28;01mNone\u001B[39;00m:\n\u001B[1;32m    470\u001B[0m     \u001B[38;5;66;03m# Time to draw/evaluate numeric start points for each chain.\u001B[39;00m\n\u001B[1;32m    471\u001B[0m     ipfns \u001B[38;5;241m=\u001B[39m make_initial_point_fns_per_chain(\n\u001B[1;32m    472\u001B[0m         model\u001B[38;5;241m=\u001B[39mmodel,\n\u001B[1;32m    473\u001B[0m         overrides\u001B[38;5;241m=\u001B[39minitvals,\n\u001B[1;32m    474\u001B[0m         jitter_rvs\u001B[38;5;241m=\u001B[39m\u001B[38;5;28mset\u001B[39m(),\n\u001B[1;32m    475\u001B[0m         chains\u001B[38;5;241m=\u001B[39mchains,\n\u001B[1;32m    476\u001B[0m     )\n",
      "File \u001B[0;32m~/anaconda3/envs/sirpy/lib/python3.8/site-packages/pymc/sampling/mcmc.py:1311\u001B[0m, in \u001B[0;36minit_nuts\u001B[0;34m(init, chains, n_init, model, random_seed, progressbar, jitter_max_retries, tune, initvals, **kwargs)\u001B[0m\n\u001B[1;32m   1308\u001B[0m \u001B[38;5;28;01melse\u001B[39;00m:\n\u001B[1;32m   1309\u001B[0m     \u001B[38;5;28;01mraise\u001B[39;00m \u001B[38;5;167;01mValueError\u001B[39;00m(\u001B[38;5;124mf\u001B[39m\u001B[38;5;124m\"\u001B[39m\u001B[38;5;124mUnknown initializer: \u001B[39m\u001B[38;5;132;01m{\u001B[39;00minit\u001B[38;5;132;01m}\u001B[39;00m\u001B[38;5;124m.\u001B[39m\u001B[38;5;124m\"\u001B[39m)\n\u001B[0;32m-> 1311\u001B[0m step \u001B[38;5;241m=\u001B[39m \u001B[43mpm\u001B[49m\u001B[38;5;241;43m.\u001B[39;49m\u001B[43mNUTS\u001B[49m\u001B[43m(\u001B[49m\u001B[43mpotential\u001B[49m\u001B[38;5;241;43m=\u001B[39;49m\u001B[43mpotential\u001B[49m\u001B[43m,\u001B[49m\u001B[43m \u001B[49m\u001B[43mmodel\u001B[49m\u001B[38;5;241;43m=\u001B[39;49m\u001B[43mmodel\u001B[49m\u001B[43m,\u001B[49m\u001B[43m \u001B[49m\u001B[38;5;241;43m*\u001B[39;49m\u001B[38;5;241;43m*\u001B[39;49m\u001B[43mkwargs\u001B[49m\u001B[43m)\u001B[49m\n\u001B[1;32m   1313\u001B[0m \u001B[38;5;66;03m# Filter deterministics from initial_points\u001B[39;00m\n\u001B[1;32m   1314\u001B[0m value_var_names \u001B[38;5;241m=\u001B[39m [var\u001B[38;5;241m.\u001B[39mname \u001B[38;5;28;01mfor\u001B[39;00m var \u001B[38;5;129;01min\u001B[39;00m model\u001B[38;5;241m.\u001B[39mvalue_vars]\n",
      "File \u001B[0;32m~/anaconda3/envs/sirpy/lib/python3.8/site-packages/pymc/step_methods/hmc/nuts.py:182\u001B[0m, in \u001B[0;36mNUTS.__init__\u001B[0;34m(self, vars, max_treedepth, early_max_treedepth, **kwargs)\u001B[0m\n\u001B[1;32m    124\u001B[0m \u001B[38;5;28;01mdef\u001B[39;00m \u001B[38;5;21m__init__\u001B[39m(\u001B[38;5;28mself\u001B[39m, \u001B[38;5;28mvars\u001B[39m\u001B[38;5;241m=\u001B[39m\u001B[38;5;28;01mNone\u001B[39;00m, max_treedepth\u001B[38;5;241m=\u001B[39m\u001B[38;5;241m10\u001B[39m, early_max_treedepth\u001B[38;5;241m=\u001B[39m\u001B[38;5;241m8\u001B[39m, \u001B[38;5;241m*\u001B[39m\u001B[38;5;241m*\u001B[39mkwargs):\n\u001B[1;32m    125\u001B[0m \u001B[38;5;250m    \u001B[39m\u001B[38;5;124mr\u001B[39m\u001B[38;5;124;03m\"\"\"Set up the No-U-Turn sampler.\u001B[39;00m\n\u001B[1;32m    126\u001B[0m \n\u001B[1;32m    127\u001B[0m \u001B[38;5;124;03m    Parameters\u001B[39;00m\n\u001B[0;32m   (...)\u001B[0m\n\u001B[1;32m    180\u001B[0m \u001B[38;5;124;03m    `pm.sample` to the desired number of tuning steps.\u001B[39;00m\n\u001B[1;32m    181\u001B[0m \u001B[38;5;124;03m    \"\"\"\u001B[39;00m\n\u001B[0;32m--> 182\u001B[0m     \u001B[38;5;28;43msuper\u001B[39;49m\u001B[43m(\u001B[49m\u001B[43m)\u001B[49m\u001B[38;5;241;43m.\u001B[39;49m\u001B[38;5;21;43m__init__\u001B[39;49m\u001B[43m(\u001B[49m\u001B[38;5;28;43mvars\u001B[39;49m\u001B[43m,\u001B[49m\u001B[43m \u001B[49m\u001B[38;5;241;43m*\u001B[39;49m\u001B[38;5;241;43m*\u001B[39;49m\u001B[43mkwargs\u001B[49m\u001B[43m)\u001B[49m\n\u001B[1;32m    184\u001B[0m     \u001B[38;5;28mself\u001B[39m\u001B[38;5;241m.\u001B[39mmax_treedepth \u001B[38;5;241m=\u001B[39m max_treedepth\n\u001B[1;32m    185\u001B[0m     \u001B[38;5;28mself\u001B[39m\u001B[38;5;241m.\u001B[39mearly_max_treedepth \u001B[38;5;241m=\u001B[39m early_max_treedepth\n",
      "File \u001B[0;32m~/anaconda3/envs/sirpy/lib/python3.8/site-packages/pymc/step_methods/hmc/base_hmc.py:109\u001B[0m, in \u001B[0;36mBaseHMC.__init__\u001B[0;34m(self, vars, scaling, step_scale, is_cov, model, blocked, potential, dtype, Emax, target_accept, gamma, k, t0, adapt_step_size, step_rand, **pytensor_kwargs)\u001B[0m\n\u001B[1;32m    107\u001B[0m \u001B[38;5;28;01melse\u001B[39;00m:\n\u001B[1;32m    108\u001B[0m     \u001B[38;5;28mvars\u001B[39m \u001B[38;5;241m=\u001B[39m get_value_vars_from_user_vars(\u001B[38;5;28mvars\u001B[39m, \u001B[38;5;28mself\u001B[39m\u001B[38;5;241m.\u001B[39m_model)\n\u001B[0;32m--> 109\u001B[0m \u001B[38;5;28;43msuper\u001B[39;49m\u001B[43m(\u001B[49m\u001B[43m)\u001B[49m\u001B[38;5;241;43m.\u001B[39;49m\u001B[38;5;21;43m__init__\u001B[39;49m\u001B[43m(\u001B[49m\u001B[38;5;28;43mvars\u001B[39;49m\u001B[43m,\u001B[49m\u001B[43m \u001B[49m\u001B[43mblocked\u001B[49m\u001B[38;5;241;43m=\u001B[39;49m\u001B[43mblocked\u001B[49m\u001B[43m,\u001B[49m\u001B[43m \u001B[49m\u001B[43mmodel\u001B[49m\u001B[38;5;241;43m=\u001B[39;49m\u001B[38;5;28;43mself\u001B[39;49m\u001B[38;5;241;43m.\u001B[39;49m\u001B[43m_model\u001B[49m\u001B[43m,\u001B[49m\u001B[43m \u001B[49m\u001B[43mdtype\u001B[49m\u001B[38;5;241;43m=\u001B[39;49m\u001B[43mdtype\u001B[49m\u001B[43m,\u001B[49m\u001B[43m \u001B[49m\u001B[38;5;241;43m*\u001B[39;49m\u001B[38;5;241;43m*\u001B[39;49m\u001B[43mpytensor_kwargs\u001B[49m\u001B[43m)\u001B[49m\n\u001B[1;32m    111\u001B[0m \u001B[38;5;28mself\u001B[39m\u001B[38;5;241m.\u001B[39madapt_step_size \u001B[38;5;241m=\u001B[39m adapt_step_size\n\u001B[1;32m    112\u001B[0m \u001B[38;5;28mself\u001B[39m\u001B[38;5;241m.\u001B[39mEmax \u001B[38;5;241m=\u001B[39m Emax\n",
      "File \u001B[0;32m~/anaconda3/envs/sirpy/lib/python3.8/site-packages/pymc/step_methods/arraystep.py:263\u001B[0m, in \u001B[0;36mGradientSharedStep.__init__\u001B[0;34m(self, vars, model, blocked, dtype, logp_dlogp_func, **pytensor_kwargs)\u001B[0m\n\u001B[1;32m    260\u001B[0m model \u001B[38;5;241m=\u001B[39m modelcontext(model)\n\u001B[1;32m    262\u001B[0m \u001B[38;5;28;01mif\u001B[39;00m logp_dlogp_func \u001B[38;5;129;01mis\u001B[39;00m \u001B[38;5;28;01mNone\u001B[39;00m:\n\u001B[0;32m--> 263\u001B[0m     func \u001B[38;5;241m=\u001B[39m \u001B[43mmodel\u001B[49m\u001B[38;5;241;43m.\u001B[39;49m\u001B[43mlogp_dlogp_function\u001B[49m\u001B[43m(\u001B[49m\u001B[38;5;28;43mvars\u001B[39;49m\u001B[43m,\u001B[49m\u001B[43m \u001B[49m\u001B[43mdtype\u001B[49m\u001B[38;5;241;43m=\u001B[39;49m\u001B[43mdtype\u001B[49m\u001B[43m,\u001B[49m\u001B[43m \u001B[49m\u001B[38;5;241;43m*\u001B[39;49m\u001B[38;5;241;43m*\u001B[39;49m\u001B[43mpytensor_kwargs\u001B[49m\u001B[43m)\u001B[49m\n\u001B[1;32m    264\u001B[0m \u001B[38;5;28;01melse\u001B[39;00m:\n\u001B[1;32m    265\u001B[0m     func \u001B[38;5;241m=\u001B[39m logp_dlogp_func\n",
      "File \u001B[0;32m~/anaconda3/envs/sirpy/lib/python3.8/site-packages/pymc/model.py:648\u001B[0m, in \u001B[0;36mModel.logp_dlogp_function\u001B[0;34m(self, grad_vars, tempered, **kwargs)\u001B[0m\n\u001B[1;32m    642\u001B[0m ip \u001B[38;5;241m=\u001B[39m \u001B[38;5;28mself\u001B[39m\u001B[38;5;241m.\u001B[39minitial_point(\u001B[38;5;241m0\u001B[39m)\n\u001B[1;32m    643\u001B[0m extra_vars_and_values \u001B[38;5;241m=\u001B[39m {\n\u001B[1;32m    644\u001B[0m     var: ip[var\u001B[38;5;241m.\u001B[39mname]\n\u001B[1;32m    645\u001B[0m     \u001B[38;5;28;01mfor\u001B[39;00m var \u001B[38;5;129;01min\u001B[39;00m \u001B[38;5;28mself\u001B[39m\u001B[38;5;241m.\u001B[39mvalue_vars\n\u001B[1;32m    646\u001B[0m     \u001B[38;5;28;01mif\u001B[39;00m var \u001B[38;5;129;01min\u001B[39;00m input_vars \u001B[38;5;129;01mand\u001B[39;00m var \u001B[38;5;129;01mnot\u001B[39;00m \u001B[38;5;129;01min\u001B[39;00m grad_vars\n\u001B[1;32m    647\u001B[0m }\n\u001B[0;32m--> 648\u001B[0m \u001B[38;5;28;01mreturn\u001B[39;00m \u001B[43mValueGradFunction\u001B[49m\u001B[43m(\u001B[49m\u001B[43mcosts\u001B[49m\u001B[43m,\u001B[49m\u001B[43m \u001B[49m\u001B[43mgrad_vars\u001B[49m\u001B[43m,\u001B[49m\u001B[43m \u001B[49m\u001B[43mextra_vars_and_values\u001B[49m\u001B[43m,\u001B[49m\u001B[43m \u001B[49m\u001B[38;5;241;43m*\u001B[39;49m\u001B[38;5;241;43m*\u001B[39;49m\u001B[43mkwargs\u001B[49m\u001B[43m)\u001B[49m\n",
      "File \u001B[0;32m~/anaconda3/envs/sirpy/lib/python3.8/site-packages/pymc/model.py:380\u001B[0m, in \u001B[0;36mValueGradFunction.__init__\u001B[0;34m(self, costs, grad_vars, extra_vars_and_values, dtype, casting, compute_grads, **kwargs)\u001B[0m\n\u001B[1;32m    377\u001B[0m     givens\u001B[38;5;241m.\u001B[39mappend((var, shared))\n\u001B[1;32m    379\u001B[0m \u001B[38;5;28;01mif\u001B[39;00m compute_grads:\n\u001B[0;32m--> 380\u001B[0m     grads \u001B[38;5;241m=\u001B[39m \u001B[43mpytensor\u001B[49m\u001B[38;5;241;43m.\u001B[39;49m\u001B[43mgrad\u001B[49m\u001B[43m(\u001B[49m\u001B[43mcost\u001B[49m\u001B[43m,\u001B[49m\u001B[43m \u001B[49m\u001B[43mgrad_vars\u001B[49m\u001B[43m,\u001B[49m\u001B[43m \u001B[49m\u001B[43mdisconnected_inputs\u001B[49m\u001B[38;5;241;43m=\u001B[39;49m\u001B[38;5;124;43m\"\u001B[39;49m\u001B[38;5;124;43mignore\u001B[39;49m\u001B[38;5;124;43m\"\u001B[39;49m\u001B[43m)\u001B[49m\n\u001B[1;32m    381\u001B[0m     \u001B[38;5;28;01mfor\u001B[39;00m grad_wrt, var \u001B[38;5;129;01min\u001B[39;00m \u001B[38;5;28mzip\u001B[39m(grads, grad_vars):\n\u001B[1;32m    382\u001B[0m         grad_wrt\u001B[38;5;241m.\u001B[39mname \u001B[38;5;241m=\u001B[39m \u001B[38;5;124mf\u001B[39m\u001B[38;5;124m\"\u001B[39m\u001B[38;5;132;01m{\u001B[39;00mvar\u001B[38;5;241m.\u001B[39mname\u001B[38;5;132;01m}\u001B[39;00m\u001B[38;5;124m_grad\u001B[39m\u001B[38;5;124m\"\u001B[39m\n",
      "File \u001B[0;32m~/anaconda3/envs/sirpy/lib/python3.8/site-packages/pytensor/gradient.py:619\u001B[0m, in \u001B[0;36mgrad\u001B[0;34m(cost, wrt, consider_constant, disconnected_inputs, add_names, known_grads, return_disconnected, null_gradients)\u001B[0m\n\u001B[1;32m    616\u001B[0m     \u001B[38;5;28;01mif\u001B[39;00m \u001B[38;5;28mhasattr\u001B[39m(g\u001B[38;5;241m.\u001B[39mtype, \u001B[38;5;124m\"\u001B[39m\u001B[38;5;124mdtype\u001B[39m\u001B[38;5;124m\"\u001B[39m):\n\u001B[1;32m    617\u001B[0m         \u001B[38;5;28;01massert\u001B[39;00m g\u001B[38;5;241m.\u001B[39mtype\u001B[38;5;241m.\u001B[39mdtype \u001B[38;5;129;01min\u001B[39;00m pytensor\u001B[38;5;241m.\u001B[39mtensor\u001B[38;5;241m.\u001B[39mtype\u001B[38;5;241m.\u001B[39mfloat_dtypes\n\u001B[0;32m--> 619\u001B[0m _rval: Sequence[Variable] \u001B[38;5;241m=\u001B[39m \u001B[43m_populate_grad_dict\u001B[49m\u001B[43m(\u001B[49m\n\u001B[1;32m    620\u001B[0m \u001B[43m    \u001B[49m\u001B[43mvar_to_app_to_idx\u001B[49m\u001B[43m,\u001B[49m\u001B[43m \u001B[49m\u001B[43mgrad_dict\u001B[49m\u001B[43m,\u001B[49m\u001B[43m \u001B[49m\u001B[43m_wrt\u001B[49m\u001B[43m,\u001B[49m\u001B[43m \u001B[49m\u001B[43mcost_name\u001B[49m\n\u001B[1;32m    621\u001B[0m \u001B[43m\u001B[49m\u001B[43m)\u001B[49m\n\u001B[1;32m    623\u001B[0m rval: MutableSequence[Optional[Variable]] \u001B[38;5;241m=\u001B[39m \u001B[38;5;28mlist\u001B[39m(_rval)\n\u001B[1;32m    625\u001B[0m \u001B[38;5;28;01mfor\u001B[39;00m i \u001B[38;5;129;01min\u001B[39;00m \u001B[38;5;28mrange\u001B[39m(\u001B[38;5;28mlen\u001B[39m(_rval)):\n",
      "File \u001B[0;32m~/anaconda3/envs/sirpy/lib/python3.8/site-packages/pytensor/gradient.py:1426\u001B[0m, in \u001B[0;36m_populate_grad_dict\u001B[0;34m(var_to_app_to_idx, grad_dict, wrt, cost_name)\u001B[0m\n\u001B[1;32m   1423\u001B[0m     \u001B[38;5;66;03m# end if cache miss\u001B[39;00m\n\u001B[1;32m   1424\u001B[0m     \u001B[38;5;28;01mreturn\u001B[39;00m grad_dict[var]\n\u001B[0;32m-> 1426\u001B[0m rval \u001B[38;5;241m=\u001B[39m [access_grad_cache(elem) \u001B[38;5;28;01mfor\u001B[39;00m elem \u001B[38;5;129;01min\u001B[39;00m wrt]\n\u001B[1;32m   1428\u001B[0m \u001B[38;5;28;01mreturn\u001B[39;00m rval\n",
      "File \u001B[0;32m~/anaconda3/envs/sirpy/lib/python3.8/site-packages/pytensor/gradient.py:1426\u001B[0m, in \u001B[0;36m<listcomp>\u001B[0;34m(.0)\u001B[0m\n\u001B[1;32m   1423\u001B[0m     \u001B[38;5;66;03m# end if cache miss\u001B[39;00m\n\u001B[1;32m   1424\u001B[0m     \u001B[38;5;28;01mreturn\u001B[39;00m grad_dict[var]\n\u001B[0;32m-> 1426\u001B[0m rval \u001B[38;5;241m=\u001B[39m [\u001B[43maccess_grad_cache\u001B[49m\u001B[43m(\u001B[49m\u001B[43melem\u001B[49m\u001B[43m)\u001B[49m \u001B[38;5;28;01mfor\u001B[39;00m elem \u001B[38;5;129;01min\u001B[39;00m wrt]\n\u001B[1;32m   1428\u001B[0m \u001B[38;5;28;01mreturn\u001B[39;00m rval\n",
      "File \u001B[0;32m~/anaconda3/envs/sirpy/lib/python3.8/site-packages/pytensor/gradient.py:1381\u001B[0m, in \u001B[0;36m_populate_grad_dict.<locals>.access_grad_cache\u001B[0;34m(var)\u001B[0m\n\u001B[1;32m   1378\u001B[0m \u001B[38;5;28;01mfor\u001B[39;00m node \u001B[38;5;129;01min\u001B[39;00m node_to_idx:\n\u001B[1;32m   1379\u001B[0m     \u001B[38;5;28;01mfor\u001B[39;00m idx \u001B[38;5;129;01min\u001B[39;00m node_to_idx[node]:\n\u001B[0;32m-> 1381\u001B[0m         term \u001B[38;5;241m=\u001B[39m \u001B[43maccess_term_cache\u001B[49m\u001B[43m(\u001B[49m\u001B[43mnode\u001B[49m\u001B[43m)\u001B[49m[idx]\n\u001B[1;32m   1383\u001B[0m         \u001B[38;5;28;01mif\u001B[39;00m \u001B[38;5;129;01mnot\u001B[39;00m \u001B[38;5;28misinstance\u001B[39m(term, Variable):\n\u001B[1;32m   1384\u001B[0m             \u001B[38;5;28;01mraise\u001B[39;00m \u001B[38;5;167;01mTypeError\u001B[39;00m(\n\u001B[1;32m   1385\u001B[0m                 \u001B[38;5;124mf\u001B[39m\u001B[38;5;124m\"\u001B[39m\u001B[38;5;132;01m{\u001B[39;00mnode\u001B[38;5;241m.\u001B[39mop\u001B[38;5;132;01m}\u001B[39;00m\u001B[38;5;124m.grad returned \u001B[39m\u001B[38;5;132;01m{\u001B[39;00m\u001B[38;5;28mtype\u001B[39m(term)\u001B[38;5;132;01m}\u001B[39;00m\u001B[38;5;124m, expected\u001B[39m\u001B[38;5;124m\"\u001B[39m\n\u001B[1;32m   1386\u001B[0m                 \u001B[38;5;124m\"\u001B[39m\u001B[38;5;124m Variable instance.\u001B[39m\u001B[38;5;124m\"\u001B[39m\n\u001B[1;32m   1387\u001B[0m             )\n",
      "File \u001B[0;32m~/anaconda3/envs/sirpy/lib/python3.8/site-packages/pytensor/gradient.py:1209\u001B[0m, in \u001B[0;36m_populate_grad_dict.<locals>.access_term_cache\u001B[0;34m(node)\u001B[0m\n\u001B[1;32m   1201\u001B[0m         \u001B[38;5;28;01mif\u001B[39;00m o_shape \u001B[38;5;241m!=\u001B[39m g_shape:\n\u001B[1;32m   1202\u001B[0m             \u001B[38;5;28;01mraise\u001B[39;00m \u001B[38;5;167;01mValueError\u001B[39;00m(\n\u001B[1;32m   1203\u001B[0m                 \u001B[38;5;124m\"\u001B[39m\u001B[38;5;124mGot a gradient of shape \u001B[39m\u001B[38;5;124m\"\u001B[39m\n\u001B[1;32m   1204\u001B[0m                 \u001B[38;5;241m+\u001B[39m \u001B[38;5;28mstr\u001B[39m(o_shape)\n\u001B[1;32m   1205\u001B[0m                 \u001B[38;5;241m+\u001B[39m \u001B[38;5;124m\"\u001B[39m\u001B[38;5;124m on an output of shape \u001B[39m\u001B[38;5;124m\"\u001B[39m\n\u001B[1;32m   1206\u001B[0m                 \u001B[38;5;241m+\u001B[39m \u001B[38;5;28mstr\u001B[39m(g_shape)\n\u001B[1;32m   1207\u001B[0m             )\n\u001B[0;32m-> 1209\u001B[0m input_grads \u001B[38;5;241m=\u001B[39m \u001B[43mnode\u001B[49m\u001B[38;5;241;43m.\u001B[39;49m\u001B[43mop\u001B[49m\u001B[38;5;241;43m.\u001B[39;49m\u001B[43mL_op\u001B[49m\u001B[43m(\u001B[49m\u001B[43minputs\u001B[49m\u001B[43m,\u001B[49m\u001B[43m \u001B[49m\u001B[43mnode\u001B[49m\u001B[38;5;241;43m.\u001B[39;49m\u001B[43moutputs\u001B[49m\u001B[43m,\u001B[49m\u001B[43m \u001B[49m\u001B[43mnew_output_grads\u001B[49m\u001B[43m)\u001B[49m\n\u001B[1;32m   1211\u001B[0m \u001B[38;5;28;01mif\u001B[39;00m input_grads \u001B[38;5;129;01mis\u001B[39;00m \u001B[38;5;28;01mNone\u001B[39;00m:\n\u001B[1;32m   1212\u001B[0m     \u001B[38;5;28;01mraise\u001B[39;00m \u001B[38;5;167;01mTypeError\u001B[39;00m(\n\u001B[1;32m   1213\u001B[0m         \u001B[38;5;124mf\u001B[39m\u001B[38;5;124m\"\u001B[39m\u001B[38;5;132;01m{\u001B[39;00mnode\u001B[38;5;241m.\u001B[39mop\u001B[38;5;132;01m}\u001B[39;00m\u001B[38;5;124m.grad returned NoneType, expected iterable.\u001B[39m\u001B[38;5;124m\"\u001B[39m\n\u001B[1;32m   1214\u001B[0m     )\n",
      "File \u001B[0;32m~/anaconda3/envs/sirpy/lib/python3.8/site-packages/pytensor/tensor/elemwise.py:549\u001B[0m, in \u001B[0;36mElemwise.L_op\u001B[0;34m(self, inputs, outs, ograds)\u001B[0m\n\u001B[1;32m    546\u001B[0m \u001B[38;5;28;01mfrom\u001B[39;00m \u001B[38;5;21;01mpytensor\u001B[39;00m\u001B[38;5;21;01m.\u001B[39;00m\u001B[38;5;21;01mtensor\u001B[39;00m\u001B[38;5;21;01m.\u001B[39;00m\u001B[38;5;21;01mmath\u001B[39;00m \u001B[38;5;28;01mimport\u001B[39;00m \u001B[38;5;28msum\u001B[39m \u001B[38;5;28;01mas\u001B[39;00m at_sum\n\u001B[1;32m    548\u001B[0m \u001B[38;5;66;03m# Compute grad with respect to broadcasted input\u001B[39;00m\n\u001B[0;32m--> 549\u001B[0m rval \u001B[38;5;241m=\u001B[39m \u001B[38;5;28;43mself\u001B[39;49m\u001B[38;5;241;43m.\u001B[39;49m\u001B[43m_bgrad\u001B[49m\u001B[43m(\u001B[49m\u001B[43minputs\u001B[49m\u001B[43m,\u001B[49m\u001B[43m \u001B[49m\u001B[43mouts\u001B[49m\u001B[43m,\u001B[49m\u001B[43m \u001B[49m\u001B[43mograds\u001B[49m\u001B[43m)\u001B[49m\n\u001B[1;32m    551\u001B[0m \u001B[38;5;66;03m# TODO: make sure that zeros are clearly identifiable\u001B[39;00m\n\u001B[1;32m    552\u001B[0m \u001B[38;5;66;03m# to the gradient.grad method when the outputs have\u001B[39;00m\n\u001B[1;32m    553\u001B[0m \u001B[38;5;66;03m# some integer and some floating point outputs\u001B[39;00m\n\u001B[1;32m    554\u001B[0m \u001B[38;5;28;01mif\u001B[39;00m \u001B[38;5;28many\u001B[39m(out\u001B[38;5;241m.\u001B[39mtype\u001B[38;5;241m.\u001B[39mdtype \u001B[38;5;129;01mnot\u001B[39;00m \u001B[38;5;129;01min\u001B[39;00m continuous_dtypes \u001B[38;5;28;01mfor\u001B[39;00m out \u001B[38;5;129;01min\u001B[39;00m outs):\n\u001B[1;32m    555\u001B[0m     \u001B[38;5;66;03m# For integer output, return value may only be zero or undefined\u001B[39;00m\n\u001B[1;32m    556\u001B[0m     \u001B[38;5;66;03m# We don't bother with trying to check that the scalar ops\u001B[39;00m\n\u001B[1;32m    557\u001B[0m     \u001B[38;5;66;03m# correctly returned something that evaluates to 0, we just make\u001B[39;00m\n\u001B[1;32m    558\u001B[0m     \u001B[38;5;66;03m# the return value obviously zero so that gradient.grad can tell\u001B[39;00m\n\u001B[1;32m    559\u001B[0m     \u001B[38;5;66;03m# this op did the right thing.\u001B[39;00m\n",
      "File \u001B[0;32m~/anaconda3/envs/sirpy/lib/python3.8/site-packages/pytensor/tensor/elemwise.py:649\u001B[0m, in \u001B[0;36mElemwise._bgrad\u001B[0;34m(self, inputs, outputs, ograds)\u001B[0m\n\u001B[1;32m    647\u001B[0m         ret\u001B[38;5;241m.\u001B[39mappend(\u001B[38;5;28;01mNone\u001B[39;00m)\n\u001B[1;32m    648\u001B[0m         \u001B[38;5;28;01mcontinue\u001B[39;00m\n\u001B[0;32m--> 649\u001B[0m     ret\u001B[38;5;241m.\u001B[39mappend(\u001B[43mtransform\u001B[49m\u001B[43m(\u001B[49m\u001B[43mscalar_igrad\u001B[49m\u001B[43m)\u001B[49m)\n\u001B[1;32m    651\u001B[0m \u001B[38;5;28;01mreturn\u001B[39;00m ret\n",
      "File \u001B[0;32m~/anaconda3/envs/sirpy/lib/python3.8/site-packages/pytensor/tensor/elemwise.py:640\u001B[0m, in \u001B[0;36mElemwise._bgrad.<locals>.transform\u001B[0;34m(r)\u001B[0m\n\u001B[1;32m    635\u001B[0m     res \u001B[38;5;241m=\u001B[39m pytensor\u001B[38;5;241m.\u001B[39mtensor\u001B[38;5;241m.\u001B[39mbasic\u001B[38;5;241m.\u001B[39mconstant(\n\u001B[1;32m    636\u001B[0m         np\u001B[38;5;241m.\u001B[39masarray(r\u001B[38;5;241m.\u001B[39mdata), dtype\u001B[38;5;241m=\u001B[39mr\u001B[38;5;241m.\u001B[39mtype\u001B[38;5;241m.\u001B[39mdtype\n\u001B[1;32m    637\u001B[0m     )\n\u001B[1;32m    638\u001B[0m     \u001B[38;5;28;01mreturn\u001B[39;00m DimShuffle((), [\u001B[38;5;124m\"\u001B[39m\u001B[38;5;124mx\u001B[39m\u001B[38;5;124m\"\u001B[39m] \u001B[38;5;241m*\u001B[39m nd)(res)\n\u001B[0;32m--> 640\u001B[0m new_r \u001B[38;5;241m=\u001B[39m Elemwise(node\u001B[38;5;241m.\u001B[39mop, {})(\u001B[38;5;241m*\u001B[39m[transform(ipt) \u001B[38;5;28;01mfor\u001B[39;00m ipt \u001B[38;5;129;01min\u001B[39;00m node\u001B[38;5;241m.\u001B[39minputs])\n\u001B[1;32m    641\u001B[0m \u001B[38;5;28;01mreturn\u001B[39;00m new_r\n",
      "File \u001B[0;32m~/anaconda3/envs/sirpy/lib/python3.8/site-packages/pytensor/tensor/elemwise.py:640\u001B[0m, in \u001B[0;36m<listcomp>\u001B[0;34m(.0)\u001B[0m\n\u001B[1;32m    635\u001B[0m     res \u001B[38;5;241m=\u001B[39m pytensor\u001B[38;5;241m.\u001B[39mtensor\u001B[38;5;241m.\u001B[39mbasic\u001B[38;5;241m.\u001B[39mconstant(\n\u001B[1;32m    636\u001B[0m         np\u001B[38;5;241m.\u001B[39masarray(r\u001B[38;5;241m.\u001B[39mdata), dtype\u001B[38;5;241m=\u001B[39mr\u001B[38;5;241m.\u001B[39mtype\u001B[38;5;241m.\u001B[39mdtype\n\u001B[1;32m    637\u001B[0m     )\n\u001B[1;32m    638\u001B[0m     \u001B[38;5;28;01mreturn\u001B[39;00m DimShuffle((), [\u001B[38;5;124m\"\u001B[39m\u001B[38;5;124mx\u001B[39m\u001B[38;5;124m\"\u001B[39m] \u001B[38;5;241m*\u001B[39m nd)(res)\n\u001B[0;32m--> 640\u001B[0m new_r \u001B[38;5;241m=\u001B[39m Elemwise(node\u001B[38;5;241m.\u001B[39mop, {})(\u001B[38;5;241m*\u001B[39m[\u001B[43mtransform\u001B[49m\u001B[43m(\u001B[49m\u001B[43mipt\u001B[49m\u001B[43m)\u001B[49m \u001B[38;5;28;01mfor\u001B[39;00m ipt \u001B[38;5;129;01min\u001B[39;00m node\u001B[38;5;241m.\u001B[39minputs])\n\u001B[1;32m    641\u001B[0m \u001B[38;5;28;01mreturn\u001B[39;00m new_r\n",
      "File \u001B[0;32m~/anaconda3/envs/sirpy/lib/python3.8/site-packages/pytensor/tensor/elemwise.py:640\u001B[0m, in \u001B[0;36mElemwise._bgrad.<locals>.transform\u001B[0;34m(r)\u001B[0m\n\u001B[1;32m    635\u001B[0m     res \u001B[38;5;241m=\u001B[39m pytensor\u001B[38;5;241m.\u001B[39mtensor\u001B[38;5;241m.\u001B[39mbasic\u001B[38;5;241m.\u001B[39mconstant(\n\u001B[1;32m    636\u001B[0m         np\u001B[38;5;241m.\u001B[39masarray(r\u001B[38;5;241m.\u001B[39mdata), dtype\u001B[38;5;241m=\u001B[39mr\u001B[38;5;241m.\u001B[39mtype\u001B[38;5;241m.\u001B[39mdtype\n\u001B[1;32m    637\u001B[0m     )\n\u001B[1;32m    638\u001B[0m     \u001B[38;5;28;01mreturn\u001B[39;00m DimShuffle((), [\u001B[38;5;124m\"\u001B[39m\u001B[38;5;124mx\u001B[39m\u001B[38;5;124m\"\u001B[39m] \u001B[38;5;241m*\u001B[39m nd)(res)\n\u001B[0;32m--> 640\u001B[0m new_r \u001B[38;5;241m=\u001B[39m Elemwise(node\u001B[38;5;241m.\u001B[39mop, {})(\u001B[38;5;241m*\u001B[39m[transform(ipt) \u001B[38;5;28;01mfor\u001B[39;00m ipt \u001B[38;5;129;01min\u001B[39;00m node\u001B[38;5;241m.\u001B[39minputs])\n\u001B[1;32m    641\u001B[0m \u001B[38;5;28;01mreturn\u001B[39;00m new_r\n",
      "File \u001B[0;32m~/anaconda3/envs/sirpy/lib/python3.8/site-packages/pytensor/tensor/elemwise.py:640\u001B[0m, in \u001B[0;36m<listcomp>\u001B[0;34m(.0)\u001B[0m\n\u001B[1;32m    635\u001B[0m     res \u001B[38;5;241m=\u001B[39m pytensor\u001B[38;5;241m.\u001B[39mtensor\u001B[38;5;241m.\u001B[39mbasic\u001B[38;5;241m.\u001B[39mconstant(\n\u001B[1;32m    636\u001B[0m         np\u001B[38;5;241m.\u001B[39masarray(r\u001B[38;5;241m.\u001B[39mdata), dtype\u001B[38;5;241m=\u001B[39mr\u001B[38;5;241m.\u001B[39mtype\u001B[38;5;241m.\u001B[39mdtype\n\u001B[1;32m    637\u001B[0m     )\n\u001B[1;32m    638\u001B[0m     \u001B[38;5;28;01mreturn\u001B[39;00m DimShuffle((), [\u001B[38;5;124m\"\u001B[39m\u001B[38;5;124mx\u001B[39m\u001B[38;5;124m\"\u001B[39m] \u001B[38;5;241m*\u001B[39m nd)(res)\n\u001B[0;32m--> 640\u001B[0m new_r \u001B[38;5;241m=\u001B[39m Elemwise(node\u001B[38;5;241m.\u001B[39mop, {})(\u001B[38;5;241m*\u001B[39m[\u001B[43mtransform\u001B[49m\u001B[43m(\u001B[49m\u001B[43mipt\u001B[49m\u001B[43m)\u001B[49m \u001B[38;5;28;01mfor\u001B[39;00m ipt \u001B[38;5;129;01min\u001B[39;00m node\u001B[38;5;241m.\u001B[39minputs])\n\u001B[1;32m    641\u001B[0m \u001B[38;5;28;01mreturn\u001B[39;00m new_r\n",
      "File \u001B[0;32m~/anaconda3/envs/sirpy/lib/python3.8/site-packages/pytensor/tensor/elemwise.py:638\u001B[0m, in \u001B[0;36mElemwise._bgrad.<locals>.transform\u001B[0;34m(r)\u001B[0m\n\u001B[1;32m    631\u001B[0m \u001B[38;5;28;01mif\u001B[39;00m node \u001B[38;5;129;01mis\u001B[39;00m \u001B[38;5;28;01mNone\u001B[39;00m:\n\u001B[1;32m    632\u001B[0m     \u001B[38;5;66;03m# the gradient contains a constant, translate it as\u001B[39;00m\n\u001B[1;32m    633\u001B[0m     \u001B[38;5;66;03m# an equivalent TensorType of size 1 and proper number of\u001B[39;00m\n\u001B[1;32m    634\u001B[0m     \u001B[38;5;66;03m# dimensions\u001B[39;00m\n\u001B[1;32m    635\u001B[0m     res \u001B[38;5;241m=\u001B[39m pytensor\u001B[38;5;241m.\u001B[39mtensor\u001B[38;5;241m.\u001B[39mbasic\u001B[38;5;241m.\u001B[39mconstant(\n\u001B[1;32m    636\u001B[0m         np\u001B[38;5;241m.\u001B[39masarray(r\u001B[38;5;241m.\u001B[39mdata), dtype\u001B[38;5;241m=\u001B[39mr\u001B[38;5;241m.\u001B[39mtype\u001B[38;5;241m.\u001B[39mdtype\n\u001B[1;32m    637\u001B[0m     )\n\u001B[0;32m--> 638\u001B[0m     \u001B[38;5;28;01mreturn\u001B[39;00m \u001B[43mDimShuffle\u001B[49m\u001B[43m(\u001B[49m\u001B[43m(\u001B[49m\u001B[43m)\u001B[49m\u001B[43m,\u001B[49m\u001B[43m \u001B[49m\u001B[43m[\u001B[49m\u001B[38;5;124;43m\"\u001B[39;49m\u001B[38;5;124;43mx\u001B[39;49m\u001B[38;5;124;43m\"\u001B[39;49m\u001B[43m]\u001B[49m\u001B[43m \u001B[49m\u001B[38;5;241;43m*\u001B[39;49m\u001B[43m \u001B[49m\u001B[43mnd\u001B[49m\u001B[43m)\u001B[49m(res)\n\u001B[1;32m    640\u001B[0m new_r \u001B[38;5;241m=\u001B[39m Elemwise(node\u001B[38;5;241m.\u001B[39mop, {})(\u001B[38;5;241m*\u001B[39m[transform(ipt) \u001B[38;5;28;01mfor\u001B[39;00m ipt \u001B[38;5;129;01min\u001B[39;00m node\u001B[38;5;241m.\u001B[39minputs])\n\u001B[1;32m    641\u001B[0m \u001B[38;5;28;01mreturn\u001B[39;00m new_r\n",
      "File \u001B[0;32m~/anaconda3/envs/sirpy/lib/python3.8/site-packages/pytensor/tensor/elemwise.py:130\u001B[0m, in \u001B[0;36mDimShuffle.__init__\u001B[0;34m(self, input_broadcastable, new_order)\u001B[0m\n\u001B[1;32m    129\u001B[0m \u001B[38;5;28;01mdef\u001B[39;00m \u001B[38;5;21m__init__\u001B[39m(\u001B[38;5;28mself\u001B[39m, input_broadcastable, new_order):\n\u001B[0;32m--> 130\u001B[0m     \u001B[38;5;28;43msuper\u001B[39;49m\u001B[43m(\u001B[49m\u001B[43m)\u001B[49m\u001B[38;5;241;43m.\u001B[39;49m\u001B[38;5;21;43m__init__\u001B[39;49m\u001B[43m(\u001B[49m\u001B[43m[\u001B[49m\u001B[38;5;28;43mself\u001B[39;49m\u001B[38;5;241;43m.\u001B[39;49m\u001B[43mc_func_file\u001B[49m\u001B[43m]\u001B[49m\u001B[43m,\u001B[49m\u001B[43m \u001B[49m\u001B[38;5;28;43mself\u001B[39;49m\u001B[38;5;241;43m.\u001B[39;49m\u001B[43mc_func_name\u001B[49m\u001B[43m)\u001B[49m\n\u001B[1;32m    132\u001B[0m     \u001B[38;5;28mself\u001B[39m\u001B[38;5;241m.\u001B[39minput_broadcastable \u001B[38;5;241m=\u001B[39m \u001B[38;5;28mtuple\u001B[39m(input_broadcastable)\n\u001B[1;32m    133\u001B[0m     \u001B[38;5;28mself\u001B[39m\u001B[38;5;241m.\u001B[39mnew_order \u001B[38;5;241m=\u001B[39m \u001B[38;5;28mtuple\u001B[39m(new_order)\n",
      "File \u001B[0;32m~/anaconda3/envs/sirpy/lib/python3.8/site-packages/pytensor/link/c/op.py:334\u001B[0m, in \u001B[0;36mExternalCOp.__init__\u001B[0;34m(self, func_files, func_name)\u001B[0m\n\u001B[1;32m    331\u001B[0m \u001B[38;5;28mself\u001B[39m\u001B[38;5;241m.\u001B[39mfunc_name \u001B[38;5;241m=\u001B[39m func_name\n\u001B[1;32m    332\u001B[0m \u001B[38;5;28mself\u001B[39m\u001B[38;5;241m.\u001B[39mcode_sections: Dict[\u001B[38;5;28mstr\u001B[39m, \u001B[38;5;28mstr\u001B[39m] \u001B[38;5;241m=\u001B[39m \u001B[38;5;28mdict\u001B[39m()\n\u001B[0;32m--> 334\u001B[0m \u001B[38;5;28;43mself\u001B[39;49m\u001B[38;5;241;43m.\u001B[39;49m\u001B[43mload_c_code\u001B[49m\u001B[43m(\u001B[49m\u001B[38;5;28;43mself\u001B[39;49m\u001B[38;5;241;43m.\u001B[39;49m\u001B[43mfunc_files\u001B[49m\u001B[43m)\u001B[49m\n\u001B[1;32m    336\u001B[0m \u001B[38;5;28;01mif\u001B[39;00m \u001B[38;5;28mlen\u001B[39m(\u001B[38;5;28mself\u001B[39m\u001B[38;5;241m.\u001B[39mcode_sections) \u001B[38;5;241m==\u001B[39m \u001B[38;5;241m0\u001B[39m:\n\u001B[1;32m    337\u001B[0m     \u001B[38;5;28;01mraise\u001B[39;00m \u001B[38;5;167;01mValueError\u001B[39;00m(\u001B[38;5;124m\"\u001B[39m\u001B[38;5;124mNo sections where defined in the C files\u001B[39m\u001B[38;5;124m\"\u001B[39m)\n",
      "File \u001B[0;32m~/anaconda3/envs/sirpy/lib/python3.8/site-packages/pytensor/link/c/op.py:355\u001B[0m, in \u001B[0;36mExternalCOp.load_c_code\u001B[0;34m(self, func_files)\u001B[0m\n\u001B[1;32m    353\u001B[0m func_files \u001B[38;5;241m=\u001B[39m [\u001B[38;5;28mself\u001B[39m\u001B[38;5;241m.\u001B[39mget_path(f) \u001B[38;5;28;01mfor\u001B[39;00m f \u001B[38;5;129;01min\u001B[39;00m func_files]\n\u001B[1;32m    354\u001B[0m \u001B[38;5;28;01mfor\u001B[39;00m func_file \u001B[38;5;129;01min\u001B[39;00m func_files:\n\u001B[0;32m--> 355\u001B[0m     \u001B[38;5;28;01mwith\u001B[39;00m \u001B[38;5;28mopen\u001B[39m(func_file) \u001B[38;5;28;01mas\u001B[39;00m f:\n\u001B[1;32m    356\u001B[0m         \u001B[38;5;28mself\u001B[39m\u001B[38;5;241m.\u001B[39mfunc_codes\u001B[38;5;241m.\u001B[39mappend(f\u001B[38;5;241m.\u001B[39mread())\n\u001B[1;32m    358\u001B[0m \u001B[38;5;66;03m# If both the old section markers and the new section markers are\u001B[39;00m\n\u001B[1;32m    359\u001B[0m \u001B[38;5;66;03m# present, raise an error because we don't know which ones to follow.\u001B[39;00m\n",
      "\u001B[0;31mKeyboardInterrupt\u001B[0m: "
     ]
    }
   ],
   "source": [
    "with sir_m:\n",
    "    trace = pm.sample(2000, tune=2000, cores=2, chains=2)"
   ],
   "metadata": {
    "collapsed": false,
    "pycharm": {
     "name": "#%%\n"
    }
   }
  },
  {
   "cell_type": "code",
   "execution_count": null,
   "outputs": [],
   "source": [
    "az.plot_trace(trace)"
   ],
   "metadata": {
    "collapsed": false,
    "pycharm": {
     "name": "#%%\n"
    }
   }
  },
  {
   "cell_type": "code",
   "execution_count": null,
   "outputs": [],
   "source": [
    "pd.DataFrame([\n",
    "    sir_m['I'].eval(),\n",
    "    sir_m['R'].eval()\n",
    "],\n",
    "    index=['I', 'R']\n",
    ").T.plot()"
   ],
   "metadata": {
    "collapsed": false,
    "pycharm": {
     "name": "#%%\n"
    }
   }
  }
 ],
 "metadata": {
  "kernelspec": {
   "display_name": "Python 3",
   "language": "python",
   "name": "python3"
  },
  "language_info": {
   "codemirror_mode": {
    "name": "ipython",
    "version": 2
   },
   "file_extension": ".py",
   "mimetype": "text/x-python",
   "name": "python",
   "nbconvert_exporter": "python",
   "pygments_lexer": "ipython2",
   "version": "2.7.6"
  }
 },
 "nbformat": 4,
 "nbformat_minor": 0
}
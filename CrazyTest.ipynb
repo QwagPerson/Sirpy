{
 "cells": [
  {
   "cell_type": "code",
   "execution_count": 34,
   "metadata": {
    "collapsed": true,
    "pycharm": {
     "name": "#%%\n"
    }
   },
   "outputs": [],
   "source": [
    "from sirpy.models.SIR import SIR\n",
    "import pandas as pd\n",
    "from LeastSquaresTrainer import LeastSquaresTrainer\n",
    "import numpy as np\n",
    "from abstractModel import EmptyModel\n",
    "from abstractModel import State, Transition\n",
    "from sirpy.metrics.MetricsFuns import RMSE, MAE, MSE"
   ]
  },
  {
   "cell_type": "code",
   "execution_count": 35,
   "outputs": [
    {
     "data": {
      "text/plain": "            sintomaticos  Cases  Deaths  Vacunados  Efectividad  refuerzo  \\\nTotales                                                                     \n2020-04-01           293   3030      16          0          0.0         0   \n2020-04-02           373   3403      18          0          0.0         0   \n2020-04-03           333   3736      22          0          0.0         0   \n2020-04-04           424   4160      27          0          0.0         0   \n2020-04-05           310   4470      34          0          0.0         0   \n\n            Efe refuerzo  \nTotales                   \n2020-04-01           0.0  \n2020-04-02           0.0  \n2020-04-03           0.0  \n2020-04-04           0.0  \n2020-04-05           0.0  ",
      "text/html": "<div>\n<style scoped>\n    .dataframe tbody tr th:only-of-type {\n        vertical-align: middle;\n    }\n\n    .dataframe tbody tr th {\n        vertical-align: top;\n    }\n\n    .dataframe thead th {\n        text-align: right;\n    }\n</style>\n<table border=\"1\" class=\"dataframe\">\n  <thead>\n    <tr style=\"text-align: right;\">\n      <th></th>\n      <th>sintomaticos</th>\n      <th>Cases</th>\n      <th>Deaths</th>\n      <th>Vacunados</th>\n      <th>Efectividad</th>\n      <th>refuerzo</th>\n      <th>Efe refuerzo</th>\n    </tr>\n    <tr>\n      <th>Totales</th>\n      <th></th>\n      <th></th>\n      <th></th>\n      <th></th>\n      <th></th>\n      <th></th>\n      <th></th>\n    </tr>\n  </thead>\n  <tbody>\n    <tr>\n      <th>2020-04-01</th>\n      <td>293</td>\n      <td>3030</td>\n      <td>16</td>\n      <td>0</td>\n      <td>0.0</td>\n      <td>0</td>\n      <td>0.0</td>\n    </tr>\n    <tr>\n      <th>2020-04-02</th>\n      <td>373</td>\n      <td>3403</td>\n      <td>18</td>\n      <td>0</td>\n      <td>0.0</td>\n      <td>0</td>\n      <td>0.0</td>\n    </tr>\n    <tr>\n      <th>2020-04-03</th>\n      <td>333</td>\n      <td>3736</td>\n      <td>22</td>\n      <td>0</td>\n      <td>0.0</td>\n      <td>0</td>\n      <td>0.0</td>\n    </tr>\n    <tr>\n      <th>2020-04-04</th>\n      <td>424</td>\n      <td>4160</td>\n      <td>27</td>\n      <td>0</td>\n      <td>0.0</td>\n      <td>0</td>\n      <td>0.0</td>\n    </tr>\n    <tr>\n      <th>2020-04-05</th>\n      <td>310</td>\n      <td>4470</td>\n      <td>34</td>\n      <td>0</td>\n      <td>0.0</td>\n      <td>0</td>\n      <td>0.0</td>\n    </tr>\n  </tbody>\n</table>\n</div>"
     },
     "execution_count": 35,
     "metadata": {},
     "output_type": "execute_result"
    }
   ],
   "source": [
    "data = pd.read_csv(\"test_data/chileconvacunas.csv\", index_col=0, parse_dates=True)\n",
    "data.head()"
   ],
   "metadata": {
    "collapsed": false,
    "pycharm": {
     "name": "#%%\n"
    }
   }
  },
  {
   "cell_type": "code",
   "execution_count": 36,
   "outputs": [],
   "source": [
    "# DICIEMBRE+ENERO\n",
    "t0 = '2020-12-01'\n",
    "tf = '2021-01-31'\n",
    "tval = '2021-02-01'\n",
    "tpred = '2021-02-07'"
   ],
   "metadata": {
    "collapsed": false,
    "pycharm": {
     "name": "#%%\n"
    }
   }
  },
  {
   "cell_type": "code",
   "execution_count": 37,
   "outputs": [],
   "source": [
    "data_tr = data[t0:tf]\n",
    "data_val = data[tf:tval]\n",
    "data_pred = data[t0:tpred]\n",
    "\n",
    "# tiempo de entreno\n",
    "T = np.arange(0, len(data_tr))\n",
    "# tiempo de validacióin\n",
    "T_val = np.arange(len(data_tr), len(data_tr)+len(data_val))\n",
    "# tiempo de predicción\n",
    "T_pred = np.arange(0, len(data_pred))"
   ],
   "metadata": {
    "collapsed": false,
    "pycharm": {
     "name": "#%%\n"
    }
   }
  },
  {
   "cell_type": "code",
   "execution_count": 38,
   "outputs": [
    {
     "data": {
      "text/plain": "            sintomaticos   Cases  Deaths  Vacunados  Efectividad  refuerzo  \\\nTotales                                                                      \n2020-12-01           747  410493   15430          0     0.000000         0   \n2020-12-02           773  411266   15438          0     0.000000         0   \n2020-12-03          1079  412345   15519          0     0.000000         0   \n2020-12-04          1155  413500   15558          0     0.000000         0   \n2020-12-05          1014  414514   15592          0     0.000000         0   \n...                  ...     ...     ...        ...          ...       ...   \n2021-01-27          2423  514926   18040      10408     0.434798         0   \n2021-01-28          2896  517822   18174      10408     0.475687         0   \n2021-01-29          2941  520763   18257      10413     0.516328         0   \n2021-01-30          2622  523385   18339      10413     0.557217         0   \n2021-01-31          2628  526013   18452      10414     0.598048         0   \n\n            Efe refuerzo  \nTotales                   \n2020-12-01           0.0  \n2020-12-02           0.0  \n2020-12-03           0.0  \n2020-12-04           0.0  \n2020-12-05           0.0  \n...                  ...  \n2021-01-27           0.0  \n2021-01-28           0.0  \n2021-01-29           0.0  \n2021-01-30           0.0  \n2021-01-31           0.0  \n\n[62 rows x 7 columns]",
      "text/html": "<div>\n<style scoped>\n    .dataframe tbody tr th:only-of-type {\n        vertical-align: middle;\n    }\n\n    .dataframe tbody tr th {\n        vertical-align: top;\n    }\n\n    .dataframe thead th {\n        text-align: right;\n    }\n</style>\n<table border=\"1\" class=\"dataframe\">\n  <thead>\n    <tr style=\"text-align: right;\">\n      <th></th>\n      <th>sintomaticos</th>\n      <th>Cases</th>\n      <th>Deaths</th>\n      <th>Vacunados</th>\n      <th>Efectividad</th>\n      <th>refuerzo</th>\n      <th>Efe refuerzo</th>\n    </tr>\n    <tr>\n      <th>Totales</th>\n      <th></th>\n      <th></th>\n      <th></th>\n      <th></th>\n      <th></th>\n      <th></th>\n      <th></th>\n    </tr>\n  </thead>\n  <tbody>\n    <tr>\n      <th>2020-12-01</th>\n      <td>747</td>\n      <td>410493</td>\n      <td>15430</td>\n      <td>0</td>\n      <td>0.000000</td>\n      <td>0</td>\n      <td>0.0</td>\n    </tr>\n    <tr>\n      <th>2020-12-02</th>\n      <td>773</td>\n      <td>411266</td>\n      <td>15438</td>\n      <td>0</td>\n      <td>0.000000</td>\n      <td>0</td>\n      <td>0.0</td>\n    </tr>\n    <tr>\n      <th>2020-12-03</th>\n      <td>1079</td>\n      <td>412345</td>\n      <td>15519</td>\n      <td>0</td>\n      <td>0.000000</td>\n      <td>0</td>\n      <td>0.0</td>\n    </tr>\n    <tr>\n      <th>2020-12-04</th>\n      <td>1155</td>\n      <td>413500</td>\n      <td>15558</td>\n      <td>0</td>\n      <td>0.000000</td>\n      <td>0</td>\n      <td>0.0</td>\n    </tr>\n    <tr>\n      <th>2020-12-05</th>\n      <td>1014</td>\n      <td>414514</td>\n      <td>15592</td>\n      <td>0</td>\n      <td>0.000000</td>\n      <td>0</td>\n      <td>0.0</td>\n    </tr>\n    <tr>\n      <th>...</th>\n      <td>...</td>\n      <td>...</td>\n      <td>...</td>\n      <td>...</td>\n      <td>...</td>\n      <td>...</td>\n      <td>...</td>\n    </tr>\n    <tr>\n      <th>2021-01-27</th>\n      <td>2423</td>\n      <td>514926</td>\n      <td>18040</td>\n      <td>10408</td>\n      <td>0.434798</td>\n      <td>0</td>\n      <td>0.0</td>\n    </tr>\n    <tr>\n      <th>2021-01-28</th>\n      <td>2896</td>\n      <td>517822</td>\n      <td>18174</td>\n      <td>10408</td>\n      <td>0.475687</td>\n      <td>0</td>\n      <td>0.0</td>\n    </tr>\n    <tr>\n      <th>2021-01-29</th>\n      <td>2941</td>\n      <td>520763</td>\n      <td>18257</td>\n      <td>10413</td>\n      <td>0.516328</td>\n      <td>0</td>\n      <td>0.0</td>\n    </tr>\n    <tr>\n      <th>2021-01-30</th>\n      <td>2622</td>\n      <td>523385</td>\n      <td>18339</td>\n      <td>10413</td>\n      <td>0.557217</td>\n      <td>0</td>\n      <td>0.0</td>\n    </tr>\n    <tr>\n      <th>2021-01-31</th>\n      <td>2628</td>\n      <td>526013</td>\n      <td>18452</td>\n      <td>10414</td>\n      <td>0.598048</td>\n      <td>0</td>\n      <td>0.0</td>\n    </tr>\n  </tbody>\n</table>\n<p>62 rows × 7 columns</p>\n</div>"
     },
     "execution_count": 38,
     "metadata": {},
     "output_type": "execute_result"
    }
   ],
   "source": [
    "data_tr"
   ],
   "metadata": {
    "collapsed": false,
    "pycharm": {
     "name": "#%%\n"
    }
   }
  },
  {
   "cell_type": "code",
   "execution_count": 39,
   "outputs": [],
   "source": [
    "# Take Cases and Deaths in one dataframe\n",
    "data_tr_2 = data_tr[['Cases', 'Deaths']].to_numpy()\n",
    "data_val_2 = data_val[['Cases', 'Deaths']].to_numpy()"
   ],
   "metadata": {
    "collapsed": false,
    "pycharm": {
     "name": "#%%\n"
    }
   }
  },
  {
   "cell_type": "code",
   "execution_count": 40,
   "outputs": [],
   "source": [
    "cmm = EmptyModel(\n",
    "  name = \"CMM\",\n",
    "  hyper_params={\n",
    "    \"time_space\": (0, T.max()),\n",
    "    \"time_range\": T,\n",
    "    \"test_time_space\": (len(data_tr), len(data_tr)+len(data_val)),\n",
    "    \"test_time_range\": T_val\n",
    "  },\n",
    "  train_params={\n",
    "      \"gamma_a\": 0.5,\n",
    "      \"gamma_s\": 0.5,\n",
    "      \"beta_a\": 0.5,\n",
    "      \"beta_s\": 0.5,\n",
    "      \"delta\": 0.5,\n",
    "      \"q_a\": 1 / 480,\n",
    "      \"q_s\": 1 / 480,\n",
    "      \"ut\": 0.5,\n",
    "      \"mu\": 0.5,\n",
    "      \"p\": 0.3,\n",
    "\n",
    "  },\n",
    "  static_params={\n",
    "      \"initial_condition\": np.array([1 - 1e-3, 1e-3, 0, 0, 0, 0,])\n",
    "  }\n",
    ")\n",
    "\n",
    "cmm.add_states([\n",
    "    State(\"S\"), # Susceptible\n",
    "    State(\"I_a\"), # Infected asymptomatic\n",
    "    State(\"I_s\"), # Infected symptomatic\n",
    "    State(\"R_a\"), # Recovered asymptomatic\n",
    "    State(\"R_s\"), # Recovered symptomatic\n",
    "    State(\"D\"), # Dead\n",
    "])\n",
    "\n",
    "calculate_N = lambda t, y, p: y.S + y.I_a + y.I_s + y.R_a + y.R_s\n",
    "lamdba = lambda t, y, p: ((1-p.ut)*p.beta_a*y.I_a+(1-p.mu)*(p.beta_s*y.I_s))*y.S\n",
    "\n",
    "cmm.add_transition(\n",
    "    Transition(\n",
    "        name=\"S -> I_a\",\n",
    "        left=\"S\",\n",
    "        right=\"I_a\",\n",
    "        fun= lambda t, y, p: lamdba(t, y, p),\n",
    "        symmetrical=False\n",
    "    )\n",
    ")\n",
    "\n",
    "cmm.add_transition(\n",
    "    Transition(\n",
    "        name=\"S -> I_a\",\n",
    "        left=\"I_a\",\n",
    "        right=\"S\",\n",
    "        fun= lambda t, y, p: - p.p * lamdba(t, y, p),\n",
    "        symmetrical=False\n",
    "    )\n",
    ")\n",
    "\n",
    "cmm.add_transition(\n",
    "    Transition(\n",
    "        name=\"S -> I_a\",\n",
    "        left=\"I_s\",\n",
    "        right=\"S\",\n",
    "        fun= lambda t, y, p: - (1 - p.p) * lamdba(t, y, p),\n",
    "        symmetrical=False\n",
    "    )\n",
    ")\n",
    "\n",
    "cmm.add_transition(\n",
    "    Transition(\n",
    "        name=\"R_a -> S\",\n",
    "        left=\"R_a\",\n",
    "        right=\"S\",\n",
    "        fun= lambda t, y, p: p.q_a*y.R_a,\n",
    "    )\n",
    ")\n",
    "\n",
    "cmm.add_transition(\n",
    "    Transition(\n",
    "        name=\"R_s -> S\",\n",
    "        left=\"R_s\",\n",
    "        right=\"S\",\n",
    "        fun= lambda t, y, p: p.q_s*y.R_s,\n",
    "    )\n",
    ")\n",
    "\n",
    "cmm.add_transition(\n",
    "    Transition(\n",
    "        name=\"I_a -> R_a\",\n",
    "        left=\"I_a\",\n",
    "        right=\"R_a\",\n",
    "        fun= lambda t, y, p: p.gamma_a * y.I_a,\n",
    "    )\n",
    ")\n",
    "\n",
    "cmm.add_transition(\n",
    "    Transition(\n",
    "        name=\"I_s -> R_s\",\n",
    "        left=\"I_s\",\n",
    "        right=\"R_s\",\n",
    "        fun= lambda t, y, p: p.gamma_s * y.I_s,\n",
    "    )\n",
    ")\n",
    "\n",
    "\n",
    "cmm.add_transition(\n",
    "    Transition(\n",
    "        name=\"I_s -> D\",\n",
    "        left=\"I_s\",\n",
    "        right=\"D\",\n",
    "        fun= lambda t, y, p: p.delta * y.I_s,\n",
    "    )\n",
    ")\n",
    "cmm.train_data = data_tr_2\n",
    "cmm.test_data = data_val_2"
   ],
   "metadata": {
    "collapsed": false,
    "pycharm": {
     "name": "#%%\n"
    }
   }
  },
  {
   "cell_type": "code",
   "execution_count": 41,
   "outputs": [
    {
     "data": {
      "text/plain": "<Figure size 640x480 with 1 Axes>",
      "image/png": "[encoded data removed]"
     },
     "metadata": {},
     "output_type": "display_data"
    }
   ],
   "source": [
    "cmm.plot_model()"
   ],
   "metadata": {
    "collapsed": false,
    "pycharm": {
     "name": "#%%\n"
    }
   }
  },
  {
   "cell_type": "code",
   "execution_count": 42,
   "outputs": [],
   "source": [
    "#TODO: Graficos de residuos (Scatter plot)\n",
    "def another_residual_fun(x, trainer_):\n",
    "    \"\"\"\n",
    "    This is an example of another residual function that only uses the cases data and death\n",
    "    to adjust the parameters.\n",
    "    \"\"\"\n",
    "    trainer_.model.set_train_params_from_list(x)\n",
    "    # take the same amount of columns of the train data\n",
    "    y_pred = trainer_.calculate_curves()\n",
    "    y_pred = np.stack([y_pred[:,-1], y_pred[:,-2]], axis=1)\n",
    "    diff = trainer_.model.train_data[0:y_pred.shape[0],:] - y_pred\n",
    "    return diff.flatten()\n"
   ],
   "metadata": {
    "collapsed": false,
    "pycharm": {
     "name": "#%%\n"
    }
   }
  },
  {
   "cell_type": "code",
   "execution_count": 43,
   "outputs": [],
   "source": [
    "trainer = LeastSquaresTrainer(cmm,)\n",
    "trainer.residual_fun = another_residual_fun"
   ],
   "metadata": {
    "collapsed": false,
    "pycharm": {
     "name": "#%%\n"
    }
   }
  },
  {
   "cell_type": "code",
   "execution_count": 44,
   "outputs": [
    {
     "data": {
      "text/plain": "array([[-0.00024975],\n       [-0.00042508],\n       [ 0.00017483],\n       [ 0.0005    ],\n       [ 0.        ],\n       [ 0.        ]])"
     },
     "execution_count": 44,
     "metadata": {},
     "output_type": "execute_result"
    }
   ],
   "source": [
    "trainer.compute_gradients(0, cmm.p(\"initial_condition\"))"
   ],
   "metadata": {
    "collapsed": false,
    "pycharm": {
     "name": "#%%\n"
    }
   }
  },
  {
   "cell_type": "code",
   "execution_count": 45,
   "outputs": [
    {
     "name": "stdout",
     "output_type": "stream",
     "text": [
      "   Iteration     Total nfev        Cost      Cost reduction    Step norm     Optimality   \n",
      "       0              1         6.5300e+12                                    2.66e+04    \n",
      "       1              2         6.5299e+12      9.26e+07       1.36e+00       1.16e+10    \n",
      "       2              3         6.3915e+12      1.38e+11       2.71e+00       1.98e+07    \n"
     ]
    },
    {
     "ename": "KeyboardInterrupt",
     "evalue": "",
     "output_type": "error",
     "traceback": [
      "\u001B[0;31m---------------------------------------------------------------------------\u001B[0m",
      "\u001B[0;31mKeyboardInterrupt\u001B[0m                         Traceback (most recent call last)",
      "Cell \u001B[0;32mIn[45], line 1\u001B[0m\n\u001B[0;32m----> 1\u001B[0m \u001B[43mtrainer\u001B[49m\u001B[38;5;241;43m.\u001B[39;49m\u001B[43mtrain\u001B[49m\u001B[43m(\u001B[49m\u001B[43mverbose\u001B[49m\u001B[38;5;241;43m=\u001B[39;49m\u001B[38;5;241;43m2\u001B[39;49m\u001B[43m)\u001B[49m\n",
      "File \u001B[0;32m~/Documents/Universidad/Verano2023/sirpy/sirpy/trainers/LeastSquaresTrainer.py:33\u001B[0m, in \u001B[0;36mLeastSquaresTrainer.train\u001B[0;34m(self, **kwargs)\u001B[0m\n\u001B[1;32m     32\u001B[0m \u001B[38;5;28;01mdef\u001B[39;00m \u001B[38;5;21mtrain\u001B[39m(\u001B[38;5;28mself\u001B[39m, \u001B[38;5;241m*\u001B[39m\u001B[38;5;241m*\u001B[39mkwargs: Any):\n\u001B[0;32m---> 33\u001B[0m     \u001B[38;5;28mself\u001B[39m\u001B[38;5;241m.\u001B[39mresults \u001B[38;5;241m=\u001B[39m \u001B[43mleast_squares\u001B[49m\u001B[43m(\u001B[49m\n\u001B[1;32m     34\u001B[0m \u001B[43m        \u001B[49m\u001B[38;5;28;43mself\u001B[39;49m\u001B[38;5;241;43m.\u001B[39;49m\u001B[43mresidual_fun\u001B[49m\u001B[43m,\u001B[49m\n\u001B[1;32m     35\u001B[0m \u001B[43m        \u001B[49m\u001B[38;5;28;43mself\u001B[39;49m\u001B[38;5;241;43m.\u001B[39;49m\u001B[43mmodel\u001B[49m\u001B[38;5;241;43m.\u001B[39;49m\u001B[43mget_train_params_as_list\u001B[49m\u001B[43m(\u001B[49m\u001B[43m)\u001B[49m\u001B[43m,\u001B[49m\n\u001B[1;32m     36\u001B[0m \u001B[43m        \u001B[49m\u001B[43margs\u001B[49m\u001B[38;5;241;43m=\u001B[39;49m\u001B[43m[\u001B[49m\u001B[38;5;28;43mself\u001B[39;49m\u001B[43m]\u001B[49m\u001B[43m,\u001B[49m\n\u001B[1;32m     37\u001B[0m \u001B[43m        \u001B[49m\u001B[38;5;241;43m*\u001B[39;49m\u001B[38;5;241;43m*\u001B[39;49m\u001B[43mkwargs\u001B[49m\n\u001B[1;32m     38\u001B[0m \u001B[43m    \u001B[49m\u001B[43m)\u001B[49m\n\u001B[1;32m     39\u001B[0m     \u001B[38;5;28mself\u001B[39m\u001B[38;5;241m.\u001B[39mmodel\u001B[38;5;241m.\u001B[39mtrained \u001B[38;5;241m=\u001B[39m \u001B[38;5;28;01mTrue\u001B[39;00m\n\u001B[1;32m     40\u001B[0m     \u001B[38;5;28;01mreturn\u001B[39;00m \u001B[38;5;28mself\u001B[39m\u001B[38;5;241m.\u001B[39mresults\n",
      "File \u001B[0;32m~/anaconda3/envs/sirpy/lib/python3.8/site-packages/scipy/optimize/_lsq/least_squares.py:938\u001B[0m, in \u001B[0;36mleast_squares\u001B[0;34m(fun, x0, jac, bounds, method, ftol, xtol, gtol, x_scale, loss, f_scale, diff_step, tr_solver, tr_options, jac_sparsity, max_nfev, verbose, args, kwargs)\u001B[0m\n\u001B[1;32m    934\u001B[0m     result \u001B[38;5;241m=\u001B[39m call_minpack(fun_wrapped, x0, jac_wrapped, ftol, xtol, gtol,\n\u001B[1;32m    935\u001B[0m                           max_nfev, x_scale, diff_step)\n\u001B[1;32m    937\u001B[0m \u001B[38;5;28;01melif\u001B[39;00m method \u001B[38;5;241m==\u001B[39m \u001B[38;5;124m'\u001B[39m\u001B[38;5;124mtrf\u001B[39m\u001B[38;5;124m'\u001B[39m:\n\u001B[0;32m--> 938\u001B[0m     result \u001B[38;5;241m=\u001B[39m \u001B[43mtrf\u001B[49m\u001B[43m(\u001B[49m\u001B[43mfun_wrapped\u001B[49m\u001B[43m,\u001B[49m\u001B[43m \u001B[49m\u001B[43mjac_wrapped\u001B[49m\u001B[43m,\u001B[49m\u001B[43m \u001B[49m\u001B[43mx0\u001B[49m\u001B[43m,\u001B[49m\u001B[43m \u001B[49m\u001B[43mf0\u001B[49m\u001B[43m,\u001B[49m\u001B[43m \u001B[49m\u001B[43mJ0\u001B[49m\u001B[43m,\u001B[49m\u001B[43m \u001B[49m\u001B[43mlb\u001B[49m\u001B[43m,\u001B[49m\u001B[43m \u001B[49m\u001B[43mub\u001B[49m\u001B[43m,\u001B[49m\u001B[43m \u001B[49m\u001B[43mftol\u001B[49m\u001B[43m,\u001B[49m\u001B[43m \u001B[49m\u001B[43mxtol\u001B[49m\u001B[43m,\u001B[49m\n\u001B[1;32m    939\u001B[0m \u001B[43m                 \u001B[49m\u001B[43mgtol\u001B[49m\u001B[43m,\u001B[49m\u001B[43m \u001B[49m\u001B[43mmax_nfev\u001B[49m\u001B[43m,\u001B[49m\u001B[43m \u001B[49m\u001B[43mx_scale\u001B[49m\u001B[43m,\u001B[49m\u001B[43m \u001B[49m\u001B[43mloss_function\u001B[49m\u001B[43m,\u001B[49m\u001B[43m \u001B[49m\u001B[43mtr_solver\u001B[49m\u001B[43m,\u001B[49m\n\u001B[1;32m    940\u001B[0m \u001B[43m                 \u001B[49m\u001B[43mtr_options\u001B[49m\u001B[38;5;241;43m.\u001B[39;49m\u001B[43mcopy\u001B[49m\u001B[43m(\u001B[49m\u001B[43m)\u001B[49m\u001B[43m,\u001B[49m\u001B[43m \u001B[49m\u001B[43mverbose\u001B[49m\u001B[43m)\u001B[49m\n\u001B[1;32m    942\u001B[0m \u001B[38;5;28;01melif\u001B[39;00m method \u001B[38;5;241m==\u001B[39m \u001B[38;5;124m'\u001B[39m\u001B[38;5;124mdogbox\u001B[39m\u001B[38;5;124m'\u001B[39m:\n\u001B[1;32m    943\u001B[0m     \u001B[38;5;28;01mif\u001B[39;00m tr_solver \u001B[38;5;241m==\u001B[39m \u001B[38;5;124m'\u001B[39m\u001B[38;5;124mlsmr\u001B[39m\u001B[38;5;124m'\u001B[39m \u001B[38;5;129;01mand\u001B[39;00m \u001B[38;5;124m'\u001B[39m\u001B[38;5;124mregularize\u001B[39m\u001B[38;5;124m'\u001B[39m \u001B[38;5;129;01min\u001B[39;00m tr_options:\n",
      "File \u001B[0;32m~/anaconda3/envs/sirpy/lib/python3.8/site-packages/scipy/optimize/_lsq/trf.py:119\u001B[0m, in \u001B[0;36mtrf\u001B[0;34m(fun, jac, x0, f0, J0, lb, ub, ftol, xtol, gtol, max_nfev, x_scale, loss_function, tr_solver, tr_options, verbose)\u001B[0m\n\u001B[1;32m    112\u001B[0m \u001B[38;5;28;01mdef\u001B[39;00m \u001B[38;5;21mtrf\u001B[39m(fun, jac, x0, f0, J0, lb, ub, ftol, xtol, gtol, max_nfev, x_scale,\n\u001B[1;32m    113\u001B[0m         loss_function, tr_solver, tr_options, verbose):\n\u001B[1;32m    114\u001B[0m     \u001B[38;5;66;03m# For efficiency, it makes sense to run the simplified version of the\u001B[39;00m\n\u001B[1;32m    115\u001B[0m     \u001B[38;5;66;03m# algorithm when no bounds are imposed. We decided to write the two\u001B[39;00m\n\u001B[1;32m    116\u001B[0m     \u001B[38;5;66;03m# separate functions. It violates the DRY principle, but the individual\u001B[39;00m\n\u001B[1;32m    117\u001B[0m     \u001B[38;5;66;03m# functions are kept the most readable.\u001B[39;00m\n\u001B[1;32m    118\u001B[0m     \u001B[38;5;28;01mif\u001B[39;00m np\u001B[38;5;241m.\u001B[39mall(lb \u001B[38;5;241m==\u001B[39m \u001B[38;5;241m-\u001B[39mnp\u001B[38;5;241m.\u001B[39minf) \u001B[38;5;129;01mand\u001B[39;00m np\u001B[38;5;241m.\u001B[39mall(ub \u001B[38;5;241m==\u001B[39m np\u001B[38;5;241m.\u001B[39minf):\n\u001B[0;32m--> 119\u001B[0m         \u001B[38;5;28;01mreturn\u001B[39;00m \u001B[43mtrf_no_bounds\u001B[49m\u001B[43m(\u001B[49m\n\u001B[1;32m    120\u001B[0m \u001B[43m            \u001B[49m\u001B[43mfun\u001B[49m\u001B[43m,\u001B[49m\u001B[43m \u001B[49m\u001B[43mjac\u001B[49m\u001B[43m,\u001B[49m\u001B[43m \u001B[49m\u001B[43mx0\u001B[49m\u001B[43m,\u001B[49m\u001B[43m \u001B[49m\u001B[43mf0\u001B[49m\u001B[43m,\u001B[49m\u001B[43m \u001B[49m\u001B[43mJ0\u001B[49m\u001B[43m,\u001B[49m\u001B[43m \u001B[49m\u001B[43mftol\u001B[49m\u001B[43m,\u001B[49m\u001B[43m \u001B[49m\u001B[43mxtol\u001B[49m\u001B[43m,\u001B[49m\u001B[43m \u001B[49m\u001B[43mgtol\u001B[49m\u001B[43m,\u001B[49m\u001B[43m \u001B[49m\u001B[43mmax_nfev\u001B[49m\u001B[43m,\u001B[49m\u001B[43m \u001B[49m\u001B[43mx_scale\u001B[49m\u001B[43m,\u001B[49m\n\u001B[1;32m    121\u001B[0m \u001B[43m            \u001B[49m\u001B[43mloss_function\u001B[49m\u001B[43m,\u001B[49m\u001B[43m \u001B[49m\u001B[43mtr_solver\u001B[49m\u001B[43m,\u001B[49m\u001B[43m \u001B[49m\u001B[43mtr_options\u001B[49m\u001B[43m,\u001B[49m\u001B[43m \u001B[49m\u001B[43mverbose\u001B[49m\u001B[43m)\u001B[49m\n\u001B[1;32m    122\u001B[0m     \u001B[38;5;28;01melse\u001B[39;00m:\n\u001B[1;32m    123\u001B[0m         \u001B[38;5;28;01mreturn\u001B[39;00m trf_bounds(\n\u001B[1;32m    124\u001B[0m             fun, jac, x0, f0, J0, lb, ub, ftol, xtol, gtol, max_nfev, x_scale,\n\u001B[1;32m    125\u001B[0m             loss_function, tr_solver, tr_options, verbose)\n",
      "File \u001B[0;32m~/anaconda3/envs/sirpy/lib/python3.8/site-packages/scipy/optimize/_lsq/trf.py:499\u001B[0m, in \u001B[0;36mtrf_no_bounds\u001B[0;34m(fun, jac, x0, f0, J0, ftol, xtol, gtol, max_nfev, x_scale, loss_function, tr_solver, tr_options, verbose)\u001B[0m\n\u001B[1;32m    497\u001B[0m step \u001B[38;5;241m=\u001B[39m d \u001B[38;5;241m*\u001B[39m step_h\n\u001B[1;32m    498\u001B[0m x_new \u001B[38;5;241m=\u001B[39m x \u001B[38;5;241m+\u001B[39m step\n\u001B[0;32m--> 499\u001B[0m f_new \u001B[38;5;241m=\u001B[39m \u001B[43mfun\u001B[49m\u001B[43m(\u001B[49m\u001B[43mx_new\u001B[49m\u001B[43m)\u001B[49m\n\u001B[1;32m    500\u001B[0m nfev \u001B[38;5;241m+\u001B[39m\u001B[38;5;241m=\u001B[39m \u001B[38;5;241m1\u001B[39m\n\u001B[1;32m    502\u001B[0m step_h_norm \u001B[38;5;241m=\u001B[39m norm(step_h)\n",
      "File \u001B[0;32m~/anaconda3/envs/sirpy/lib/python3.8/site-packages/scipy/optimize/_lsq/least_squares.py:825\u001B[0m, in \u001B[0;36mleast_squares.<locals>.fun_wrapped\u001B[0;34m(x)\u001B[0m\n\u001B[1;32m    824\u001B[0m \u001B[38;5;28;01mdef\u001B[39;00m \u001B[38;5;21mfun_wrapped\u001B[39m(x):\n\u001B[0;32m--> 825\u001B[0m     \u001B[38;5;28;01mreturn\u001B[39;00m np\u001B[38;5;241m.\u001B[39matleast_1d(\u001B[43mfun\u001B[49m\u001B[43m(\u001B[49m\u001B[43mx\u001B[49m\u001B[43m,\u001B[49m\u001B[43m \u001B[49m\u001B[38;5;241;43m*\u001B[39;49m\u001B[43margs\u001B[49m\u001B[43m,\u001B[49m\u001B[43m \u001B[49m\u001B[38;5;241;43m*\u001B[39;49m\u001B[38;5;241;43m*\u001B[39;49m\u001B[43mkwargs\u001B[49m\u001B[43m)\u001B[49m)\n",
      "Cell \u001B[0;32mIn[42], line 9\u001B[0m, in \u001B[0;36manother_residual_fun\u001B[0;34m(x, trainer_)\u001B[0m\n\u001B[1;32m      7\u001B[0m trainer_\u001B[38;5;241m.\u001B[39mmodel\u001B[38;5;241m.\u001B[39mset_train_params_from_list(x)\n\u001B[1;32m      8\u001B[0m \u001B[38;5;66;03m# take the same amount of columns of the train data\u001B[39;00m\n\u001B[0;32m----> 9\u001B[0m y_pred \u001B[38;5;241m=\u001B[39m \u001B[43mtrainer_\u001B[49m\u001B[38;5;241;43m.\u001B[39;49m\u001B[43mcalculate_curves\u001B[49m\u001B[43m(\u001B[49m\u001B[43m)\u001B[49m\n\u001B[1;32m     10\u001B[0m y_pred \u001B[38;5;241m=\u001B[39m np\u001B[38;5;241m.\u001B[39mstack([y_pred[:,\u001B[38;5;241m-\u001B[39m\u001B[38;5;241m1\u001B[39m], y_pred[:,\u001B[38;5;241m-\u001B[39m\u001B[38;5;241m2\u001B[39m]], axis\u001B[38;5;241m=\u001B[39m\u001B[38;5;241m1\u001B[39m)\n\u001B[1;32m     11\u001B[0m diff \u001B[38;5;241m=\u001B[39m trainer_\u001B[38;5;241m.\u001B[39mmodel\u001B[38;5;241m.\u001B[39mtrain_data[\u001B[38;5;241m0\u001B[39m:y_pred\u001B[38;5;241m.\u001B[39mshape[\u001B[38;5;241m0\u001B[39m],:] \u001B[38;5;241m-\u001B[39m y_pred\n",
      "File \u001B[0;32m~/Documents/Universidad/Verano2023/sirpy/sirpy/trainers/LeastSquaresTrainer.py:66\u001B[0m, in \u001B[0;36mLeastSquaresTrainer.calculate_curves\u001B[0;34m(self)\u001B[0m\n\u001B[1;32m     65\u001B[0m \u001B[38;5;28;01mdef\u001B[39;00m \u001B[38;5;21mcalculate_curves\u001B[39m(\u001B[38;5;28mself\u001B[39m):\n\u001B[0;32m---> 66\u001B[0m     \u001B[38;5;28;01mreturn\u001B[39;00m \u001B[38;5;28;43mself\u001B[39;49m\u001B[38;5;241;43m.\u001B[39;49m\u001B[43msolve_ode_system\u001B[49m\u001B[43m(\u001B[49m\u001B[43m)\u001B[49m\u001B[38;5;241m.\u001B[39my\u001B[38;5;241m.\u001B[39mT\n",
      "File \u001B[0;32m~/Documents/Universidad/Verano2023/sirpy/sirpy/trainers/LeastSquaresTrainer.py:56\u001B[0m, in \u001B[0;36mLeastSquaresTrainer.solve_ode_system\u001B[0;34m(self, **kwargs)\u001B[0m\n\u001B[1;32m     55\u001B[0m \u001B[38;5;28;01mdef\u001B[39;00m \u001B[38;5;21msolve_ode_system\u001B[39m(\u001B[38;5;28mself\u001B[39m, \u001B[38;5;241m*\u001B[39m\u001B[38;5;241m*\u001B[39mkwargs):\n\u001B[0;32m---> 56\u001B[0m     \u001B[38;5;28;01mreturn\u001B[39;00m \u001B[43msolve_ivp\u001B[49m\u001B[43m(\u001B[49m\n\u001B[1;32m     57\u001B[0m \u001B[43m        \u001B[49m\u001B[38;5;28;43mself\u001B[39;49m\u001B[38;5;241;43m.\u001B[39;49m\u001B[43mcompute_gradients\u001B[49m\u001B[43m,\u001B[49m\n\u001B[1;32m     58\u001B[0m \u001B[43m        \u001B[49m\u001B[38;5;28;43mself\u001B[39;49m\u001B[38;5;241;43m.\u001B[39;49m\u001B[43mmodel\u001B[49m\u001B[38;5;241;43m.\u001B[39;49m\u001B[43mget_param\u001B[49m\u001B[43m(\u001B[49m\u001B[38;5;124;43m\"\u001B[39;49m\u001B[38;5;124;43mtime_space\u001B[39;49m\u001B[38;5;124;43m\"\u001B[39;49m\u001B[43m)\u001B[49m\u001B[43m,\u001B[49m\n\u001B[1;32m     59\u001B[0m \u001B[43m        \u001B[49m\u001B[38;5;28;43mself\u001B[39;49m\u001B[38;5;241;43m.\u001B[39;49m\u001B[43mmodel\u001B[49m\u001B[38;5;241;43m.\u001B[39;49m\u001B[43mget_param\u001B[49m\u001B[43m(\u001B[49m\u001B[38;5;124;43m\"\u001B[39;49m\u001B[38;5;124;43minitial_condition\u001B[39;49m\u001B[38;5;124;43m\"\u001B[39;49m\u001B[43m)\u001B[49m\u001B[43m,\u001B[49m\n\u001B[1;32m     60\u001B[0m \u001B[43m        \u001B[49m\u001B[43mvectorized\u001B[49m\u001B[38;5;241;43m=\u001B[39;49m\u001B[38;5;28;43;01mTrue\u001B[39;49;00m\u001B[43m,\u001B[49m\n\u001B[1;32m     61\u001B[0m \u001B[43m        \u001B[49m\u001B[43mt_eval\u001B[49m\u001B[38;5;241;43m=\u001B[39;49m\u001B[38;5;28;43mself\u001B[39;49m\u001B[38;5;241;43m.\u001B[39;49m\u001B[43mmodel\u001B[49m\u001B[38;5;241;43m.\u001B[39;49m\u001B[43mget_param\u001B[49m\u001B[43m(\u001B[49m\u001B[38;5;124;43m\"\u001B[39;49m\u001B[38;5;124;43mtime_range\u001B[39;49m\u001B[38;5;124;43m\"\u001B[39;49m\u001B[43m)\u001B[49m\u001B[43m,\u001B[49m\n\u001B[1;32m     62\u001B[0m \u001B[43m        \u001B[49m\u001B[38;5;241;43m*\u001B[39;49m\u001B[38;5;241;43m*\u001B[39;49m\u001B[43mkwargs\u001B[49m\n\u001B[1;32m     63\u001B[0m \u001B[43m    \u001B[49m\u001B[43m)\u001B[49m\n",
      "File \u001B[0;32m~/anaconda3/envs/sirpy/lib/python3.8/site-packages/scipy/integrate/_ivp/ivp.py:591\u001B[0m, in \u001B[0;36msolve_ivp\u001B[0;34m(fun, t_span, y0, method, t_eval, dense_output, events, vectorized, args, **options)\u001B[0m\n\u001B[1;32m    589\u001B[0m status \u001B[38;5;241m=\u001B[39m \u001B[38;5;28;01mNone\u001B[39;00m\n\u001B[1;32m    590\u001B[0m \u001B[38;5;28;01mwhile\u001B[39;00m status \u001B[38;5;129;01mis\u001B[39;00m \u001B[38;5;28;01mNone\u001B[39;00m:\n\u001B[0;32m--> 591\u001B[0m     message \u001B[38;5;241m=\u001B[39m \u001B[43msolver\u001B[49m\u001B[38;5;241;43m.\u001B[39;49m\u001B[43mstep\u001B[49m\u001B[43m(\u001B[49m\u001B[43m)\u001B[49m\n\u001B[1;32m    593\u001B[0m     \u001B[38;5;28;01mif\u001B[39;00m solver\u001B[38;5;241m.\u001B[39mstatus \u001B[38;5;241m==\u001B[39m \u001B[38;5;124m'\u001B[39m\u001B[38;5;124mfinished\u001B[39m\u001B[38;5;124m'\u001B[39m:\n\u001B[1;32m    594\u001B[0m         status \u001B[38;5;241m=\u001B[39m \u001B[38;5;241m0\u001B[39m\n",
      "File \u001B[0;32m~/anaconda3/envs/sirpy/lib/python3.8/site-packages/scipy/integrate/_ivp/base.py:181\u001B[0m, in \u001B[0;36mOdeSolver.step\u001B[0;34m(self)\u001B[0m\n\u001B[1;32m    179\u001B[0m \u001B[38;5;28;01melse\u001B[39;00m:\n\u001B[1;32m    180\u001B[0m     t \u001B[38;5;241m=\u001B[39m \u001B[38;5;28mself\u001B[39m\u001B[38;5;241m.\u001B[39mt\n\u001B[0;32m--> 181\u001B[0m     success, message \u001B[38;5;241m=\u001B[39m \u001B[38;5;28;43mself\u001B[39;49m\u001B[38;5;241;43m.\u001B[39;49m\u001B[43m_step_impl\u001B[49m\u001B[43m(\u001B[49m\u001B[43m)\u001B[49m\n\u001B[1;32m    183\u001B[0m     \u001B[38;5;28;01mif\u001B[39;00m \u001B[38;5;129;01mnot\u001B[39;00m success:\n\u001B[1;32m    184\u001B[0m         \u001B[38;5;28mself\u001B[39m\u001B[38;5;241m.\u001B[39mstatus \u001B[38;5;241m=\u001B[39m \u001B[38;5;124m'\u001B[39m\u001B[38;5;124mfailed\u001B[39m\u001B[38;5;124m'\u001B[39m\n",
      "File \u001B[0;32m~/anaconda3/envs/sirpy/lib/python3.8/site-packages/scipy/integrate/_ivp/rk.py:144\u001B[0m, in \u001B[0;36mRungeKutta._step_impl\u001B[0;34m(self)\u001B[0m\n\u001B[1;32m    141\u001B[0m h \u001B[38;5;241m=\u001B[39m t_new \u001B[38;5;241m-\u001B[39m t\n\u001B[1;32m    142\u001B[0m h_abs \u001B[38;5;241m=\u001B[39m np\u001B[38;5;241m.\u001B[39mabs(h)\n\u001B[0;32m--> 144\u001B[0m y_new, f_new \u001B[38;5;241m=\u001B[39m \u001B[43mrk_step\u001B[49m\u001B[43m(\u001B[49m\u001B[38;5;28;43mself\u001B[39;49m\u001B[38;5;241;43m.\u001B[39;49m\u001B[43mfun\u001B[49m\u001B[43m,\u001B[49m\u001B[43m \u001B[49m\u001B[43mt\u001B[49m\u001B[43m,\u001B[49m\u001B[43m \u001B[49m\u001B[43my\u001B[49m\u001B[43m,\u001B[49m\u001B[43m \u001B[49m\u001B[38;5;28;43mself\u001B[39;49m\u001B[38;5;241;43m.\u001B[39;49m\u001B[43mf\u001B[49m\u001B[43m,\u001B[49m\u001B[43m \u001B[49m\u001B[43mh\u001B[49m\u001B[43m,\u001B[49m\u001B[43m \u001B[49m\u001B[38;5;28;43mself\u001B[39;49m\u001B[38;5;241;43m.\u001B[39;49m\u001B[43mA\u001B[49m\u001B[43m,\u001B[49m\n\u001B[1;32m    145\u001B[0m \u001B[43m                       \u001B[49m\u001B[38;5;28;43mself\u001B[39;49m\u001B[38;5;241;43m.\u001B[39;49m\u001B[43mB\u001B[49m\u001B[43m,\u001B[49m\u001B[43m \u001B[49m\u001B[38;5;28;43mself\u001B[39;49m\u001B[38;5;241;43m.\u001B[39;49m\u001B[43mC\u001B[49m\u001B[43m,\u001B[49m\u001B[43m \u001B[49m\u001B[38;5;28;43mself\u001B[39;49m\u001B[38;5;241;43m.\u001B[39;49m\u001B[43mK\u001B[49m\u001B[43m)\u001B[49m\n\u001B[1;32m    146\u001B[0m scale \u001B[38;5;241m=\u001B[39m atol \u001B[38;5;241m+\u001B[39m np\u001B[38;5;241m.\u001B[39mmaximum(np\u001B[38;5;241m.\u001B[39mabs(y), np\u001B[38;5;241m.\u001B[39mabs(y_new)) \u001B[38;5;241m*\u001B[39m rtol\n\u001B[1;32m    147\u001B[0m error_norm \u001B[38;5;241m=\u001B[39m \u001B[38;5;28mself\u001B[39m\u001B[38;5;241m.\u001B[39m_estimate_error_norm(\u001B[38;5;28mself\u001B[39m\u001B[38;5;241m.\u001B[39mK, h, scale)\n",
      "File \u001B[0;32m~/anaconda3/envs/sirpy/lib/python3.8/site-packages/scipy/integrate/_ivp/rk.py:64\u001B[0m, in \u001B[0;36mrk_step\u001B[0;34m(fun, t, y, f, h, A, B, C, K)\u001B[0m\n\u001B[1;32m     62\u001B[0m \u001B[38;5;28;01mfor\u001B[39;00m s, (a, c) \u001B[38;5;129;01min\u001B[39;00m \u001B[38;5;28menumerate\u001B[39m(\u001B[38;5;28mzip\u001B[39m(A[\u001B[38;5;241m1\u001B[39m:], C[\u001B[38;5;241m1\u001B[39m:]), start\u001B[38;5;241m=\u001B[39m\u001B[38;5;241m1\u001B[39m):\n\u001B[1;32m     63\u001B[0m     dy \u001B[38;5;241m=\u001B[39m np\u001B[38;5;241m.\u001B[39mdot(K[:s]\u001B[38;5;241m.\u001B[39mT, a[:s]) \u001B[38;5;241m*\u001B[39m h\n\u001B[0;32m---> 64\u001B[0m     K[s] \u001B[38;5;241m=\u001B[39m \u001B[43mfun\u001B[49m\u001B[43m(\u001B[49m\u001B[43mt\u001B[49m\u001B[43m \u001B[49m\u001B[38;5;241;43m+\u001B[39;49m\u001B[43m \u001B[49m\u001B[43mc\u001B[49m\u001B[43m \u001B[49m\u001B[38;5;241;43m*\u001B[39;49m\u001B[43m \u001B[49m\u001B[43mh\u001B[49m\u001B[43m,\u001B[49m\u001B[43m \u001B[49m\u001B[43my\u001B[49m\u001B[43m \u001B[49m\u001B[38;5;241;43m+\u001B[39;49m\u001B[43m \u001B[49m\u001B[43mdy\u001B[49m\u001B[43m)\u001B[49m\n\u001B[1;32m     66\u001B[0m y_new \u001B[38;5;241m=\u001B[39m y \u001B[38;5;241m+\u001B[39m h \u001B[38;5;241m*\u001B[39m np\u001B[38;5;241m.\u001B[39mdot(K[:\u001B[38;5;241m-\u001B[39m\u001B[38;5;241m1\u001B[39m]\u001B[38;5;241m.\u001B[39mT, B)\n\u001B[1;32m     67\u001B[0m f_new \u001B[38;5;241m=\u001B[39m fun(t \u001B[38;5;241m+\u001B[39m h, y_new)\n",
      "File \u001B[0;32m~/anaconda3/envs/sirpy/lib/python3.8/site-packages/scipy/integrate/_ivp/base.py:138\u001B[0m, in \u001B[0;36mOdeSolver.__init__.<locals>.fun\u001B[0;34m(t, y)\u001B[0m\n\u001B[1;32m    136\u001B[0m \u001B[38;5;28;01mdef\u001B[39;00m \u001B[38;5;21mfun\u001B[39m(t, y):\n\u001B[1;32m    137\u001B[0m     \u001B[38;5;28mself\u001B[39m\u001B[38;5;241m.\u001B[39mnfev \u001B[38;5;241m+\u001B[39m\u001B[38;5;241m=\u001B[39m \u001B[38;5;241m1\u001B[39m\n\u001B[0;32m--> 138\u001B[0m     \u001B[38;5;28;01mreturn\u001B[39;00m \u001B[38;5;28;43mself\u001B[39;49m\u001B[38;5;241;43m.\u001B[39;49m\u001B[43mfun_single\u001B[49m\u001B[43m(\u001B[49m\u001B[43mt\u001B[49m\u001B[43m,\u001B[49m\u001B[43m \u001B[49m\u001B[43my\u001B[49m\u001B[43m)\u001B[49m\n",
      "File \u001B[0;32m~/anaconda3/envs/sirpy/lib/python3.8/site-packages/scipy/integrate/_ivp/base.py:125\u001B[0m, in \u001B[0;36mOdeSolver.__init__.<locals>.fun_single\u001B[0;34m(t, y)\u001B[0m\n\u001B[1;32m    124\u001B[0m \u001B[38;5;28;01mdef\u001B[39;00m \u001B[38;5;21mfun_single\u001B[39m(t, y):\n\u001B[0;32m--> 125\u001B[0m     \u001B[38;5;28;01mreturn\u001B[39;00m \u001B[38;5;28;43mself\u001B[39;49m\u001B[38;5;241;43m.\u001B[39;49m\u001B[43m_fun\u001B[49m\u001B[43m(\u001B[49m\u001B[43mt\u001B[49m\u001B[43m,\u001B[49m\u001B[43m \u001B[49m\u001B[43my\u001B[49m\u001B[43m[\u001B[49m\u001B[43m:\u001B[49m\u001B[43m,\u001B[49m\u001B[43m \u001B[49m\u001B[38;5;28;43;01mNone\u001B[39;49;00m\u001B[43m]\u001B[49m\u001B[43m)\u001B[49m\u001B[38;5;241m.\u001B[39mravel()\n",
      "File \u001B[0;32m~/anaconda3/envs/sirpy/lib/python3.8/site-packages/scipy/integrate/_ivp/base.py:20\u001B[0m, in \u001B[0;36mcheck_arguments.<locals>.fun_wrapped\u001B[0;34m(t, y)\u001B[0m\n\u001B[1;32m     19\u001B[0m \u001B[38;5;28;01mdef\u001B[39;00m \u001B[38;5;21mfun_wrapped\u001B[39m(t, y):\n\u001B[0;32m---> 20\u001B[0m     \u001B[38;5;28;01mreturn\u001B[39;00m np\u001B[38;5;241m.\u001B[39masarray(\u001B[43mfun\u001B[49m\u001B[43m(\u001B[49m\u001B[43mt\u001B[49m\u001B[43m,\u001B[49m\u001B[43m \u001B[49m\u001B[43my\u001B[49m\u001B[43m)\u001B[49m, dtype\u001B[38;5;241m=\u001B[39mdtype)\n",
      "File \u001B[0;32m~/Documents/Universidad/Verano2023/sirpy/sirpy/trainers/LeastSquaresTrainer.py:43\u001B[0m, in \u001B[0;36mLeastSquaresTrainer.compute_gradients\u001B[0;34m(self, t, y)\u001B[0m\n\u001B[1;32m     40\u001B[0m     \u001B[38;5;28;01mreturn\u001B[39;00m \u001B[38;5;28mself\u001B[39m\u001B[38;5;241m.\u001B[39mresults\n\u001B[1;32m     42\u001B[0m \u001B[38;5;66;03m# Asume que y está ordenado según el orden de states\u001B[39;00m\n\u001B[0;32m---> 43\u001B[0m \u001B[38;5;28;01mdef\u001B[39;00m \u001B[38;5;21mcompute_gradients\u001B[39m(\u001B[38;5;28mself\u001B[39m, t, y):\n\u001B[1;32m     44\u001B[0m     \u001B[38;5;28mself\u001B[39m\u001B[38;5;241m.\u001B[39mupdate_param_attr_dict()\n\u001B[1;32m     45\u001B[0m     \u001B[38;5;66;03m# if array is 1D, make it 2D\u001B[39;00m\n",
      "\u001B[0;31mKeyboardInterrupt\u001B[0m: "
     ]
    }
   ],
   "source": [
    "trainer.train(verbose=2)"
   ],
   "metadata": {
    "collapsed": false,
    "pycharm": {
     "name": "#%%\n"
    }
   }
  }
 ],
 "metadata": {
  "kernelspec": {
   "display_name": "Python 3",
   "language": "python",
   "name": "python3"
  },
  "language_info": {
   "codemirror_mode": {
    "name": "ipython",
    "version": 2
   },
   "file_extension": ".py",
   "mimetype": "text/x-python",
   "name": "python",
   "nbconvert_exporter": "python",
   "pygments_lexer": "ipython2",
   "version": "2.7.6"
  }
 },
 "nbformat": 4,
 "nbformat_minor": 0
}